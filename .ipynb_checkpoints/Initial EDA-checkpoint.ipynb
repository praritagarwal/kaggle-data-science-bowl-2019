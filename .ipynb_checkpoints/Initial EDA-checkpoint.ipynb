{
 "cells": [
  {
   "cell_type": "code",
   "execution_count": 1,
   "metadata": {},
   "outputs": [],
   "source": [
    "import pandas as pd\n",
    "import numpy as np\n",
    "import time"
   ]
  },
  {
   "cell_type": "code",
   "execution_count": 2,
   "metadata": {},
   "outputs": [],
   "source": [
    "import matplotlib.pyplot as plt\n",
    "import os"
   ]
  },
  {
   "cell_type": "code",
   "execution_count": 3,
   "metadata": {},
   "outputs": [
    {
     "data": {
      "text/plain": [
       "'C:\\\\Users\\\\agarw\\\\Dropbox\\\\data-science-bowl-2019'"
      ]
     },
     "execution_count": 3,
     "metadata": {},
     "output_type": "execute_result"
    }
   ],
   "source": [
    "os.getcwd()"
   ]
  },
  {
   "cell_type": "code",
   "execution_count": 4,
   "metadata": {},
   "outputs": [
    {
     "data": {
      "text/plain": [
       "['.git',\n",
       " '.ipynb_checkpoints',\n",
       " 'Initial EDA.ipynb',\n",
       " 'sample_submission.csv',\n",
       " 'specs.csv',\n",
       " 'test.csv',\n",
       " 'train.csv',\n",
       " 'train_labels.csv']"
      ]
     },
     "execution_count": 4,
     "metadata": {},
     "output_type": "execute_result"
    }
   ],
   "source": [
    "os.listdir()"
   ]
  },
  {
   "cell_type": "markdown",
   "metadata": {},
   "source": [
    "# EDA"
   ]
  },
  {
   "cell_type": "markdown",
   "metadata": {},
   "source": [
    "## train.csv"
   ]
  },
  {
   "cell_type": "code",
   "execution_count": 111,
   "metadata": {},
   "outputs": [],
   "source": [
    "TrainData=pd.read_csv('train.csv')"
   ]
  },
  {
   "cell_type": "code",
   "execution_count": 6,
   "metadata": {},
   "outputs": [
    {
     "data": {
      "text/plain": [
       "(11341042, 11)"
      ]
     },
     "execution_count": 6,
     "metadata": {},
     "output_type": "execute_result"
    }
   ],
   "source": [
    "TrainData.shape"
   ]
  },
  {
   "cell_type": "code",
   "execution_count": 7,
   "metadata": {},
   "outputs": [
    {
     "data": {
      "text/plain": [
       "Index(['event_id', 'game_session', 'timestamp', 'event_data',\n",
       "       'installation_id', 'event_count', 'event_code', 'game_time', 'title',\n",
       "       'type', 'world'],\n",
       "      dtype='object')"
      ]
     },
     "execution_count": 7,
     "metadata": {},
     "output_type": "execute_result"
    }
   ],
   "source": [
    "TrainData.keys()"
   ]
  },
  {
   "cell_type": "code",
   "execution_count": 8,
   "metadata": {},
   "outputs": [
    {
     "data": {
      "text/plain": [
       "event_id           object\n",
       "game_session       object\n",
       "timestamp          object\n",
       "event_data         object\n",
       "installation_id    object\n",
       "event_count         int64\n",
       "event_code          int64\n",
       "game_time           int64\n",
       "title              object\n",
       "type               object\n",
       "world              object\n",
       "dtype: object"
      ]
     },
     "execution_count": 8,
     "metadata": {},
     "output_type": "execute_result"
    }
   ],
   "source": [
    "TrainData.dtypes"
   ]
  },
  {
   "cell_type": "code",
   "execution_count": 9,
   "metadata": {},
   "outputs": [
    {
     "data": {
      "text/html": [
       "<div>\n",
       "<style scoped>\n",
       "    .dataframe tbody tr th:only-of-type {\n",
       "        vertical-align: middle;\n",
       "    }\n",
       "\n",
       "    .dataframe tbody tr th {\n",
       "        vertical-align: top;\n",
       "    }\n",
       "\n",
       "    .dataframe thead th {\n",
       "        text-align: right;\n",
       "    }\n",
       "</style>\n",
       "<table border=\"1\" class=\"dataframe\">\n",
       "  <thead>\n",
       "    <tr style=\"text-align: right;\">\n",
       "      <th></th>\n",
       "      <th>event_id</th>\n",
       "      <th>game_session</th>\n",
       "      <th>timestamp</th>\n",
       "      <th>event_data</th>\n",
       "      <th>installation_id</th>\n",
       "      <th>event_count</th>\n",
       "      <th>event_code</th>\n",
       "      <th>game_time</th>\n",
       "      <th>title</th>\n",
       "      <th>type</th>\n",
       "      <th>world</th>\n",
       "    </tr>\n",
       "  </thead>\n",
       "  <tbody>\n",
       "    <tr>\n",
       "      <th>0</th>\n",
       "      <td>27253bdc</td>\n",
       "      <td>45bb1e1b6b50c07b</td>\n",
       "      <td>2019-09-06T17:53:46.937Z</td>\n",
       "      <td>{\"event_code\": 2000, \"event_count\": 1}</td>\n",
       "      <td>0001e90f</td>\n",
       "      <td>1</td>\n",
       "      <td>2000</td>\n",
       "      <td>0</td>\n",
       "      <td>Welcome to Lost Lagoon!</td>\n",
       "      <td>Clip</td>\n",
       "      <td>NONE</td>\n",
       "    </tr>\n",
       "    <tr>\n",
       "      <th>1</th>\n",
       "      <td>27253bdc</td>\n",
       "      <td>17eeb7f223665f53</td>\n",
       "      <td>2019-09-06T17:54:17.519Z</td>\n",
       "      <td>{\"event_code\": 2000, \"event_count\": 1}</td>\n",
       "      <td>0001e90f</td>\n",
       "      <td>1</td>\n",
       "      <td>2000</td>\n",
       "      <td>0</td>\n",
       "      <td>Magma Peak - Level 1</td>\n",
       "      <td>Clip</td>\n",
       "      <td>MAGMAPEAK</td>\n",
       "    </tr>\n",
       "    <tr>\n",
       "      <th>2</th>\n",
       "      <td>77261ab5</td>\n",
       "      <td>0848ef14a8dc6892</td>\n",
       "      <td>2019-09-06T17:54:56.302Z</td>\n",
       "      <td>{\"version\":\"1.0\",\"event_count\":1,\"game_time\":0...</td>\n",
       "      <td>0001e90f</td>\n",
       "      <td>1</td>\n",
       "      <td>2000</td>\n",
       "      <td>0</td>\n",
       "      <td>Sandcastle Builder (Activity)</td>\n",
       "      <td>Activity</td>\n",
       "      <td>MAGMAPEAK</td>\n",
       "    </tr>\n",
       "    <tr>\n",
       "      <th>3</th>\n",
       "      <td>b2dba42b</td>\n",
       "      <td>0848ef14a8dc6892</td>\n",
       "      <td>2019-09-06T17:54:56.387Z</td>\n",
       "      <td>{\"description\":\"Let's build a sandcastle! Firs...</td>\n",
       "      <td>0001e90f</td>\n",
       "      <td>2</td>\n",
       "      <td>3010</td>\n",
       "      <td>53</td>\n",
       "      <td>Sandcastle Builder (Activity)</td>\n",
       "      <td>Activity</td>\n",
       "      <td>MAGMAPEAK</td>\n",
       "    </tr>\n",
       "    <tr>\n",
       "      <th>4</th>\n",
       "      <td>1bb5fbdb</td>\n",
       "      <td>0848ef14a8dc6892</td>\n",
       "      <td>2019-09-06T17:55:03.253Z</td>\n",
       "      <td>{\"description\":\"Let's build a sandcastle! Firs...</td>\n",
       "      <td>0001e90f</td>\n",
       "      <td>3</td>\n",
       "      <td>3110</td>\n",
       "      <td>6972</td>\n",
       "      <td>Sandcastle Builder (Activity)</td>\n",
       "      <td>Activity</td>\n",
       "      <td>MAGMAPEAK</td>\n",
       "    </tr>\n",
       "  </tbody>\n",
       "</table>\n",
       "</div>"
      ],
      "text/plain": [
       "   event_id      game_session                 timestamp  \\\n",
       "0  27253bdc  45bb1e1b6b50c07b  2019-09-06T17:53:46.937Z   \n",
       "1  27253bdc  17eeb7f223665f53  2019-09-06T17:54:17.519Z   \n",
       "2  77261ab5  0848ef14a8dc6892  2019-09-06T17:54:56.302Z   \n",
       "3  b2dba42b  0848ef14a8dc6892  2019-09-06T17:54:56.387Z   \n",
       "4  1bb5fbdb  0848ef14a8dc6892  2019-09-06T17:55:03.253Z   \n",
       "\n",
       "                                          event_data installation_id  \\\n",
       "0             {\"event_code\": 2000, \"event_count\": 1}        0001e90f   \n",
       "1             {\"event_code\": 2000, \"event_count\": 1}        0001e90f   \n",
       "2  {\"version\":\"1.0\",\"event_count\":1,\"game_time\":0...        0001e90f   \n",
       "3  {\"description\":\"Let's build a sandcastle! Firs...        0001e90f   \n",
       "4  {\"description\":\"Let's build a sandcastle! Firs...        0001e90f   \n",
       "\n",
       "   event_count  event_code  game_time                          title  \\\n",
       "0            1        2000          0        Welcome to Lost Lagoon!   \n",
       "1            1        2000          0           Magma Peak - Level 1   \n",
       "2            1        2000          0  Sandcastle Builder (Activity)   \n",
       "3            2        3010         53  Sandcastle Builder (Activity)   \n",
       "4            3        3110       6972  Sandcastle Builder (Activity)   \n",
       "\n",
       "       type      world  \n",
       "0      Clip       NONE  \n",
       "1      Clip  MAGMAPEAK  \n",
       "2  Activity  MAGMAPEAK  \n",
       "3  Activity  MAGMAPEAK  \n",
       "4  Activity  MAGMAPEAK  "
      ]
     },
     "execution_count": 9,
     "metadata": {},
     "output_type": "execute_result"
    }
   ],
   "source": [
    "TrainData.head(5)"
   ]
  },
  {
   "cell_type": "code",
   "execution_count": 10,
   "metadata": {},
   "outputs": [
    {
     "data": {
      "text/html": [
       "<div>\n",
       "<style scoped>\n",
       "    .dataframe tbody tr th:only-of-type {\n",
       "        vertical-align: middle;\n",
       "    }\n",
       "\n",
       "    .dataframe tbody tr th {\n",
       "        vertical-align: top;\n",
       "    }\n",
       "\n",
       "    .dataframe thead th {\n",
       "        text-align: right;\n",
       "    }\n",
       "</style>\n",
       "<table border=\"1\" class=\"dataframe\">\n",
       "  <thead>\n",
       "    <tr style=\"text-align: right;\">\n",
       "      <th></th>\n",
       "      <th>event_id</th>\n",
       "      <th>game_session</th>\n",
       "      <th>timestamp</th>\n",
       "      <th>event_data</th>\n",
       "      <th>installation_id</th>\n",
       "      <th>event_count</th>\n",
       "      <th>event_code</th>\n",
       "      <th>game_time</th>\n",
       "      <th>title</th>\n",
       "      <th>type</th>\n",
       "      <th>world</th>\n",
       "    </tr>\n",
       "  </thead>\n",
       "  <tbody>\n",
       "    <tr>\n",
       "      <th>count</th>\n",
       "      <td>11341042</td>\n",
       "      <td>11341042</td>\n",
       "      <td>11341042</td>\n",
       "      <td>11341042</td>\n",
       "      <td>11341042</td>\n",
       "      <td>1.134104e+07</td>\n",
       "      <td>1.134104e+07</td>\n",
       "      <td>1.134104e+07</td>\n",
       "      <td>11341042</td>\n",
       "      <td>11341042</td>\n",
       "      <td>11341042</td>\n",
       "    </tr>\n",
       "    <tr>\n",
       "      <th>unique</th>\n",
       "      <td>384</td>\n",
       "      <td>303319</td>\n",
       "      <td>10777308</td>\n",
       "      <td>10893749</td>\n",
       "      <td>17000</td>\n",
       "      <td>NaN</td>\n",
       "      <td>NaN</td>\n",
       "      <td>NaN</td>\n",
       "      <td>44</td>\n",
       "      <td>4</td>\n",
       "      <td>4</td>\n",
       "    </tr>\n",
       "    <tr>\n",
       "      <th>top</th>\n",
       "      <td>1325467d</td>\n",
       "      <td>6e6e697f2e593de1</td>\n",
       "      <td>2019-08-01T20:08:13.052Z</td>\n",
       "      <td>{\"event_code\": 2000, \"event_count\": 1}</td>\n",
       "      <td>f1c21eda</td>\n",
       "      <td>NaN</td>\n",
       "      <td>NaN</td>\n",
       "      <td>NaN</td>\n",
       "      <td>Chow Time</td>\n",
       "      <td>Game</td>\n",
       "      <td>MAGMAPEAK</td>\n",
       "    </tr>\n",
       "    <tr>\n",
       "      <th>freq</th>\n",
       "      <td>274673</td>\n",
       "      <td>3368</td>\n",
       "      <td>11</td>\n",
       "      <td>183676</td>\n",
       "      <td>58988</td>\n",
       "      <td>NaN</td>\n",
       "      <td>NaN</td>\n",
       "      <td>NaN</td>\n",
       "      <td>1150974</td>\n",
       "      <td>5795293</td>\n",
       "      <td>5023687</td>\n",
       "    </tr>\n",
       "    <tr>\n",
       "      <th>mean</th>\n",
       "      <td>NaN</td>\n",
       "      <td>NaN</td>\n",
       "      <td>NaN</td>\n",
       "      <td>NaN</td>\n",
       "      <td>NaN</td>\n",
       "      <td>1.056642e+02</td>\n",
       "      <td>3.513838e+03</td>\n",
       "      <td>1.976236e+05</td>\n",
       "      <td>NaN</td>\n",
       "      <td>NaN</td>\n",
       "      <td>NaN</td>\n",
       "    </tr>\n",
       "    <tr>\n",
       "      <th>std</th>\n",
       "      <td>NaN</td>\n",
       "      <td>NaN</td>\n",
       "      <td>NaN</td>\n",
       "      <td>NaN</td>\n",
       "      <td>NaN</td>\n",
       "      <td>1.483477e+02</td>\n",
       "      <td>6.816470e+02</td>\n",
       "      <td>1.803968e+06</td>\n",
       "      <td>NaN</td>\n",
       "      <td>NaN</td>\n",
       "      <td>NaN</td>\n",
       "    </tr>\n",
       "    <tr>\n",
       "      <th>min</th>\n",
       "      <td>NaN</td>\n",
       "      <td>NaN</td>\n",
       "      <td>NaN</td>\n",
       "      <td>NaN</td>\n",
       "      <td>NaN</td>\n",
       "      <td>1.000000e+00</td>\n",
       "      <td>2.000000e+03</td>\n",
       "      <td>0.000000e+00</td>\n",
       "      <td>NaN</td>\n",
       "      <td>NaN</td>\n",
       "      <td>NaN</td>\n",
       "    </tr>\n",
       "    <tr>\n",
       "      <th>25%</th>\n",
       "      <td>NaN</td>\n",
       "      <td>NaN</td>\n",
       "      <td>NaN</td>\n",
       "      <td>NaN</td>\n",
       "      <td>NaN</td>\n",
       "      <td>2.500000e+01</td>\n",
       "      <td>3.021000e+03</td>\n",
       "      <td>3.061800e+04</td>\n",
       "      <td>NaN</td>\n",
       "      <td>NaN</td>\n",
       "      <td>NaN</td>\n",
       "    </tr>\n",
       "    <tr>\n",
       "      <th>50%</th>\n",
       "      <td>NaN</td>\n",
       "      <td>NaN</td>\n",
       "      <td>NaN</td>\n",
       "      <td>NaN</td>\n",
       "      <td>NaN</td>\n",
       "      <td>6.100000e+01</td>\n",
       "      <td>4.020000e+03</td>\n",
       "      <td>7.276100e+04</td>\n",
       "      <td>NaN</td>\n",
       "      <td>NaN</td>\n",
       "      <td>NaN</td>\n",
       "    </tr>\n",
       "    <tr>\n",
       "      <th>75%</th>\n",
       "      <td>NaN</td>\n",
       "      <td>NaN</td>\n",
       "      <td>NaN</td>\n",
       "      <td>NaN</td>\n",
       "      <td>NaN</td>\n",
       "      <td>1.290000e+02</td>\n",
       "      <td>4.035000e+03</td>\n",
       "      <td>1.574460e+05</td>\n",
       "      <td>NaN</td>\n",
       "      <td>NaN</td>\n",
       "      <td>NaN</td>\n",
       "    </tr>\n",
       "    <tr>\n",
       "      <th>max</th>\n",
       "      <td>NaN</td>\n",
       "      <td>NaN</td>\n",
       "      <td>NaN</td>\n",
       "      <td>NaN</td>\n",
       "      <td>NaN</td>\n",
       "      <td>3.368000e+03</td>\n",
       "      <td>5.010000e+03</td>\n",
       "      <td>3.069102e+08</td>\n",
       "      <td>NaN</td>\n",
       "      <td>NaN</td>\n",
       "      <td>NaN</td>\n",
       "    </tr>\n",
       "  </tbody>\n",
       "</table>\n",
       "</div>"
      ],
      "text/plain": [
       "        event_id      game_session                 timestamp  \\\n",
       "count   11341042          11341042                  11341042   \n",
       "unique       384            303319                  10777308   \n",
       "top     1325467d  6e6e697f2e593de1  2019-08-01T20:08:13.052Z   \n",
       "freq      274673              3368                        11   \n",
       "mean         NaN               NaN                       NaN   \n",
       "std          NaN               NaN                       NaN   \n",
       "min          NaN               NaN                       NaN   \n",
       "25%          NaN               NaN                       NaN   \n",
       "50%          NaN               NaN                       NaN   \n",
       "75%          NaN               NaN                       NaN   \n",
       "max          NaN               NaN                       NaN   \n",
       "\n",
       "                                    event_data installation_id   event_count  \\\n",
       "count                                 11341042        11341042  1.134104e+07   \n",
       "unique                                10893749           17000           NaN   \n",
       "top     {\"event_code\": 2000, \"event_count\": 1}        f1c21eda           NaN   \n",
       "freq                                    183676           58988           NaN   \n",
       "mean                                       NaN             NaN  1.056642e+02   \n",
       "std                                        NaN             NaN  1.483477e+02   \n",
       "min                                        NaN             NaN  1.000000e+00   \n",
       "25%                                        NaN             NaN  2.500000e+01   \n",
       "50%                                        NaN             NaN  6.100000e+01   \n",
       "75%                                        NaN             NaN  1.290000e+02   \n",
       "max                                        NaN             NaN  3.368000e+03   \n",
       "\n",
       "          event_code     game_time      title      type      world  \n",
       "count   1.134104e+07  1.134104e+07   11341042  11341042   11341042  \n",
       "unique           NaN           NaN         44         4          4  \n",
       "top              NaN           NaN  Chow Time      Game  MAGMAPEAK  \n",
       "freq             NaN           NaN    1150974   5795293    5023687  \n",
       "mean    3.513838e+03  1.976236e+05        NaN       NaN        NaN  \n",
       "std     6.816470e+02  1.803968e+06        NaN       NaN        NaN  \n",
       "min     2.000000e+03  0.000000e+00        NaN       NaN        NaN  \n",
       "25%     3.021000e+03  3.061800e+04        NaN       NaN        NaN  \n",
       "50%     4.020000e+03  7.276100e+04        NaN       NaN        NaN  \n",
       "75%     4.035000e+03  1.574460e+05        NaN       NaN        NaN  \n",
       "max     5.010000e+03  3.069102e+08        NaN       NaN        NaN  "
      ]
     },
     "execution_count": 10,
     "metadata": {},
     "output_type": "execute_result"
    }
   ],
   "source": [
    "TrainData.describe(include='all')"
   ]
  },
  {
   "cell_type": "markdown",
   "metadata": {},
   "source": [
    "* Q: what does event_count represent?\n",
    "\n",
    "   let us look at how many unique values are there in this column"
   ]
  },
  {
   "cell_type": "code",
   "execution_count": 11,
   "metadata": {},
   "outputs": [
    {
     "data": {
      "text/plain": [
       "array([   1,    2,    3, ..., 3366, 3367, 3368], dtype=int64)"
      ]
     },
     "execution_count": 11,
     "metadata": {},
     "output_type": "execute_result"
    }
   ],
   "source": [
    "TrainData['event_count'].unique()"
   ]
  },
  {
   "cell_type": "code",
   "execution_count": 12,
   "metadata": {},
   "outputs": [
    {
     "data": {
      "text/plain": [
       "3368"
      ]
     },
     "execution_count": 12,
     "metadata": {},
     "output_type": "execute_result"
    }
   ],
   "source": [
    "len(TrainData['event_count'].unique())"
   ]
  },
  {
   "cell_type": "code",
   "execution_count": 13,
   "metadata": {},
   "outputs": [
    {
     "data": {
      "text/plain": [
       "1"
      ]
     },
     "execution_count": 13,
     "metadata": {},
     "output_type": "execute_result"
    }
   ],
   "source": [
    "min(TrainData['event_count'].unique())"
   ]
  },
  {
   "cell_type": "code",
   "execution_count": 14,
   "metadata": {},
   "outputs": [
    {
     "data": {
      "text/plain": [
       "3368"
      ]
     },
     "execution_count": 14,
     "metadata": {},
     "output_type": "execute_result"
    }
   ],
   "source": [
    "max(TrainData['event_count'].unique())"
   ]
  },
  {
   "cell_type": "markdown",
   "metadata": {},
   "source": [
    "There are 3368 unique values for event_count. These seem to be all the integers from 1 to 3368.\n",
    "\n",
    "Let us look at the distribution various unique value under the column event_count"
   ]
  },
  {
   "cell_type": "code",
   "execution_count": 15,
   "metadata": {},
   "outputs": [
    {
     "data": {
      "text/plain": [
       "1       303319\n",
       "2       117340\n",
       "3       116006\n",
       "4       113633\n",
       "5       112482\n",
       "6       111158\n",
       "7       110286\n",
       "8       109545\n",
       "9       108960\n",
       "10      108383\n",
       "11      107537\n",
       "12      107070\n",
       "13      106593\n",
       "14      105748\n",
       "15      105148\n",
       "16      104147\n",
       "17      103612\n",
       "18      103014\n",
       "19      102427\n",
       "20      101902\n",
       "21      100924\n",
       "22      100315\n",
       "23       99720\n",
       "24       99111\n",
       "25       98505\n",
       "26       97464\n",
       "27       96575\n",
       "28       95685\n",
       "29       94756\n",
       "30       93785\n",
       "         ...  \n",
       "3339         1\n",
       "3340         1\n",
       "3341         1\n",
       "3342         1\n",
       "3343         1\n",
       "3344         1\n",
       "3345         1\n",
       "3346         1\n",
       "3347         1\n",
       "3348         1\n",
       "3349         1\n",
       "3350         1\n",
       "3351         1\n",
       "3352         1\n",
       "3353         1\n",
       "3354         1\n",
       "3355         1\n",
       "3356         1\n",
       "3357         1\n",
       "3358         1\n",
       "3359         1\n",
       "3360         1\n",
       "3361         1\n",
       "3362         1\n",
       "3363         1\n",
       "3364         1\n",
       "3365         1\n",
       "3366         1\n",
       "3367         1\n",
       "3368         1\n",
       "Name: event_count, Length: 3368, dtype: int64"
      ]
     },
     "execution_count": 15,
     "metadata": {},
     "output_type": "execute_result"
    }
   ],
   "source": [
    "# frequency of each unique value under event_count (sorted)\n",
    "TrainData.event_count.value_counts().sort_index()"
   ]
  },
  {
   "cell_type": "code",
   "execution_count": 16,
   "metadata": {},
   "outputs": [
    {
     "data": {
      "text/plain": [
       "3183    1\n",
       "3184    1\n",
       "3185    1\n",
       "3186    1\n",
       "3187    1\n",
       "3188    1\n",
       "3189    1\n",
       "3190    1\n",
       "3191    1\n",
       "3192    1\n",
       "3193    1\n",
       "3194    1\n",
       "3195    1\n",
       "3196    1\n",
       "3197    1\n",
       "3198    1\n",
       "3199    1\n",
       "3200    1\n",
       "3201    1\n",
       "3202    1\n",
       "3203    1\n",
       "3204    1\n",
       "3205    1\n",
       "3206    1\n",
       "3207    1\n",
       "3208    1\n",
       "3209    1\n",
       "3210    1\n",
       "3211    1\n",
       "3212    1\n",
       "       ..\n",
       "3339    1\n",
       "3340    1\n",
       "3341    1\n",
       "3342    1\n",
       "3343    1\n",
       "3344    1\n",
       "3345    1\n",
       "3346    1\n",
       "3347    1\n",
       "3348    1\n",
       "3349    1\n",
       "3350    1\n",
       "3351    1\n",
       "3352    1\n",
       "3353    1\n",
       "3354    1\n",
       "3355    1\n",
       "3356    1\n",
       "3357    1\n",
       "3358    1\n",
       "3359    1\n",
       "3360    1\n",
       "3361    1\n",
       "3362    1\n",
       "3363    1\n",
       "3364    1\n",
       "3365    1\n",
       "3366    1\n",
       "3367    1\n",
       "3368    1\n",
       "Name: event_count, Length: 186, dtype: int64"
      ]
     },
     "execution_count": 16,
     "metadata": {},
     "output_type": "execute_result"
    }
   ],
   "source": [
    "# the event_count values which only occur once\n",
    "event_count_freq=TrainData.event_count.value_counts().sort_index()\n",
    "event_count_freq.loc[event_count_freq==1]"
   ]
  },
  {
   "cell_type": "code",
   "execution_count": 17,
   "metadata": {},
   "outputs": [
    {
     "data": {
      "image/png": "[encoded data removed]",
      "text/plain": [
       "<Figure size 1440x1440 with 1 Axes>"
      ]
     },
     "metadata": {
      "needs_background": "light"
     },
     "output_type": "display_data"
    }
   ],
   "source": [
    "# bar-chart of frequencies of the first the first 100 unique values under event_count\n",
    "# given that there are 3368 unique values, it is impossible to draw a single bar-chart with all the unique values\n",
    "plt.figure(figsize=(20,20))\n",
    "TrainData['event_count'].value_counts()[0:100].plot(kind='bar')\n",
    "plt.xlabel('event_count')\n",
    "plt.ylabel('value_counts')\n",
    "plt.title('distribution of values under the column event_count')\n",
    "plt.show()"
   ]
  },
  {
   "cell_type": "code",
   "execution_count": 18,
   "metadata": {},
   "outputs": [
    {
     "data": {
      "image/png": "[encoded data removed]",
      "text/plain": [
       "<Figure size 1440x1440 with 1 Axes>"
      ]
     },
     "metadata": {
      "needs_background": "light"
     },
     "output_type": "display_data"
    }
   ],
   "source": [
    "# all the 3368 unique values under event_count can't be put in the same bar-chart,\n",
    "# therefore, it is best to use collect them into bins and look at these bins.\n",
    "# We therefore draw a histogram with 300 bins for 'event_count' \n",
    "event_count_hist=TrainData.hist(column='event_count', figsize=(20,20), bins=300)"
   ]
  },
  {
   "cell_type": "markdown",
   "metadata": {},
   "source": [
    "The frequency of occurence for various unique values under event_count seems to rapidly decay with most frequently occuring values lying largely between 1 and 500.  '1' occurs extremely frequently while larger values such as '3183' onwards seem to only occur once. "
   ]
  },
  {
   "cell_type": "markdown",
   "metadata": {},
   "source": [
    "* what does the column 'type' represent?\n",
    "\n",
    " To begin with, we note that 'type' takes 4 unique values: 'Clip', 'Activity', 'Game', 'Assessment'"
   ]
  },
  {
   "cell_type": "code",
   "execution_count": 19,
   "metadata": {},
   "outputs": [
    {
     "data": {
      "text/plain": [
       "array(['Clip', 'Activity', 'Game', 'Assessment'], dtype=object)"
      ]
     },
     "execution_count": 19,
     "metadata": {},
     "output_type": "execute_result"
    }
   ],
   "source": [
    "TrainData.type.unique()"
   ]
  },
  {
   "cell_type": "markdown",
   "metadata": {},
   "source": [
    "This suggest it is a categorical label. The meaning of various types has been explained in [this](https://www.kaggle.com/c/data-science-bowl-2019/discussion/115034#latest-664872) kaggle post."
   ]
  },
  {
   "cell_type": "code",
   "execution_count": 20,
   "metadata": {},
   "outputs": [
    {
     "data": {
      "image/png": "[encoded data removed]",
      "text/plain": [
       "<Figure size 432x288 with 1 Axes>"
      ]
     },
     "metadata": {
      "needs_background": "light"
     },
     "output_type": "display_data"
    }
   ],
   "source": [
    "# frequency of the distinct 'type' values\n",
    "plt.figure()\n",
    "TrainData.type.value_counts().plot(kind='bar')\n",
    "plt.xlabel('type')\n",
    "plt.ylabel('number of instances')\n",
    "plt.title('frequency of the distinct values under the column type ')\n",
    "plt.show()"
   ]
  },
  {
   "cell_type": "markdown",
   "metadata": {},
   "source": [
    "Note that though the data has far less number of entries with 'type'='Clip', as suggested in the aforementioned Kaggle post, this is an artifact of how the data was collected and does NOT imply that clips are less popular!"
   ]
  },
  {
   "cell_type": "markdown",
   "metadata": {},
   "source": [
    " Let us look at the entries which have 'type' = 'Clip'"
   ]
  },
  {
   "cell_type": "code",
   "execution_count": 21,
   "metadata": {},
   "outputs": [],
   "source": [
    "TrainDataTpClip=TrainData.loc[TrainData['type']=='Clip']"
   ]
  },
  {
   "cell_type": "markdown",
   "metadata": {},
   "source": [
    "As suggested in the above mentioned Kaggle post, 'Clips' are introductory videos to the different possible environments in the PBS KIDS Measure Up! app. Different videos can be further identified by their title. So let's check out the various possible titles for these videos. This information seems to be provided under the column 'title'.  "
   ]
  },
  {
   "cell_type": "code",
   "execution_count": 22,
   "metadata": {},
   "outputs": [
    {
     "data": {
      "text/plain": [
       "array(['Welcome to Lost Lagoon!', 'Magma Peak - Level 1',\n",
       "       'Magma Peak - Level 2', 'Tree Top City - Level 1',\n",
       "       'Ordering Spheres', 'Slop Problem', 'Costume Box', '12 Monkeys',\n",
       "       'Tree Top City - Level 2', \"Pirate's Tale\", 'Treasure Map',\n",
       "       'Tree Top City - Level 3', 'Rulers', 'Crystal Caves - Level 1',\n",
       "       'Balancing Act', 'Crystal Caves - Level 2',\n",
       "       'Crystal Caves - Level 3', 'Lifting Heavy Things', 'Honey Cake',\n",
       "       'Heavy, Heavier, Heaviest'], dtype=object)"
      ]
     },
     "execution_count": 22,
     "metadata": {},
     "output_type": "execute_result"
    }
   ],
   "source": [
    "TrainDataTpClip.title.unique()"
   ]
  },
  {
   "cell_type": "code",
   "execution_count": 23,
   "metadata": {},
   "outputs": [
    {
     "data": {
      "text/plain": [
       "20"
      ]
     },
     "execution_count": 23,
     "metadata": {},
     "output_type": "execute_result"
    }
   ],
   "source": [
    "# number of distinct titles for 'Clip'\n",
    "len(TrainDataTpClip.title.unique())"
   ]
  },
  {
   "cell_type": "markdown",
   "metadata": {},
   "source": [
    "We therefore see that there are 20 different 'clips'"
   ]
  },
  {
   "cell_type": "code",
   "execution_count": 24,
   "metadata": {},
   "outputs": [
    {
     "data": {
      "text/plain": [
       "False"
      ]
     },
     "execution_count": 24,
     "metadata": {},
     "output_type": "execute_result"
    }
   ],
   "source": [
    "# confirm if there are any missing titles for 'Clip' \n",
    "TrainDataTpClip.title.isnull().values.any()"
   ]
  },
  {
   "cell_type": "markdown",
   "metadata": {},
   "source": [
    "Let us now look at the entries that have 'type'='Activity' "
   ]
  },
  {
   "cell_type": "code",
   "execution_count": 25,
   "metadata": {},
   "outputs": [],
   "source": [
    "TrainDataTpAct=TrainData.loc[TrainData['type']=='Activity']"
   ]
  },
  {
   "cell_type": "markdown",
   "metadata": {},
   "source": [
    "Once again, let us look at the various different 'titles' that 'Activity' can have. "
   ]
  },
  {
   "cell_type": "code",
   "execution_count": 26,
   "metadata": {},
   "outputs": [
    {
     "data": {
      "text/plain": [
       "array(['Sandcastle Builder (Activity)', 'Watering Hole (Activity)',\n",
       "       'Fireworks (Activity)', 'Flower Waterer (Activity)',\n",
       "       'Bug Measurer (Activity)', 'Bottle Filler (Activity)',\n",
       "       'Chicken Balancer (Activity)', 'Egg Dropper (Activity)'],\n",
       "      dtype=object)"
      ]
     },
     "execution_count": 26,
     "metadata": {},
     "output_type": "execute_result"
    }
   ],
   "source": [
    "TrainDataTpAct.title.unique()"
   ]
  },
  {
   "cell_type": "code",
   "execution_count": 27,
   "metadata": {},
   "outputs": [
    {
     "data": {
      "text/plain": [
       "8"
      ]
     },
     "execution_count": 27,
     "metadata": {},
     "output_type": "execute_result"
    }
   ],
   "source": [
    "# number of different Activity-titles \n",
    "len(TrainDataTpAct.title.unique())"
   ]
  },
  {
   "cell_type": "code",
   "execution_count": 28,
   "metadata": {},
   "outputs": [
    {
     "data": {
      "text/plain": [
       "False"
      ]
     },
     "execution_count": 28,
     "metadata": {},
     "output_type": "execute_result"
    }
   ],
   "source": [
    "# are there missing entries under Activity-titles?\n",
    "TrainDataTpAct.title.isnull().values.any()"
   ]
  },
  {
   "cell_type": "markdown",
   "metadata": {},
   "source": [
    "Thus we see that there are 8 different activities possible. As explained in the kaggle [post](https://www.kaggle.com/c/data-science-bowl-2019/discussion/115034#latest-664872), activity has no predefined goal and is meant to allow the kids to get acquianted with the environment.   "
   ]
  },
  {
   "cell_type": "markdown",
   "metadata": {},
   "source": [
    "let us now checkout the entries with 'type'='Game'"
   ]
  },
  {
   "cell_type": "code",
   "execution_count": 29,
   "metadata": {},
   "outputs": [],
   "source": [
    "TrainDataTpGame=TrainData.loc[TrainData.type=='Game']"
   ]
  },
  {
   "cell_type": "code",
   "execution_count": 30,
   "metadata": {},
   "outputs": [
    {
     "data": {
      "text/plain": [
       "array(['Scrub-A-Dub', 'Dino Drink', 'All Star Sorting', 'Air Show',\n",
       "       'Crystals Rule', 'Bubble Bath', 'Dino Dive', 'Chow Time',\n",
       "       'Pan Balance', 'Happy Camel', 'Leaf Leader'], dtype=object)"
      ]
     },
     "execution_count": 30,
     "metadata": {},
     "output_type": "execute_result"
    }
   ],
   "source": [
    "# different titles for 'type'='Game'\n",
    "TrainDataTpGame.title.unique()"
   ]
  },
  {
   "cell_type": "code",
   "execution_count": 31,
   "metadata": {},
   "outputs": [
    {
     "data": {
      "text/plain": [
       "11"
      ]
     },
     "execution_count": 31,
     "metadata": {},
     "output_type": "execute_result"
    }
   ],
   "source": [
    "# number of different titles for 'type' = 'Game'\n",
    "len(TrainDataTpGame.title.unique())"
   ]
  },
  {
   "cell_type": "code",
   "execution_count": 32,
   "metadata": {},
   "outputs": [],
   "source": [
    "# entries with 'type'=Assesment\n",
    "TrainDataTpAssess=TrainData.loc[TrainData.type=='Assessment']"
   ]
  },
  {
   "cell_type": "code",
   "execution_count": 33,
   "metadata": {},
   "outputs": [
    {
     "data": {
      "text/plain": [
       "array(['Mushroom Sorter (Assessment)', 'Bird Measurer (Assessment)',\n",
       "       'Cauldron Filler (Assessment)', 'Cart Balancer (Assessment)',\n",
       "       'Chest Sorter (Assessment)'], dtype=object)"
      ]
     },
     "execution_count": 33,
     "metadata": {},
     "output_type": "execute_result"
    }
   ],
   "source": [
    "# unique titles for 'Assessment'\n",
    "TrainDataTpAssess.title.unique()"
   ]
  },
  {
   "cell_type": "code",
   "execution_count": 34,
   "metadata": {},
   "outputs": [
    {
     "data": {
      "text/plain": [
       "5"
      ]
     },
     "execution_count": 34,
     "metadata": {},
     "output_type": "execute_result"
    }
   ],
   "source": [
    "# no. of unique titles for 'Assessment'\n",
    "len(TrainDataTpAssess.title.unique())"
   ]
  },
  {
   "cell_type": "markdown",
   "metadata": {},
   "source": [
    "We see that there are 5 different assessments!"
   ]
  },
  {
   "cell_type": "markdown",
   "metadata": {},
   "source": [
    "* what does the column 'world' represent?"
   ]
  },
  {
   "cell_type": "markdown",
   "metadata": {},
   "source": [
    "The information under the 'world' column seems to be categorical. Let's look at the different possible values that can be assigned to it. "
   ]
  },
  {
   "cell_type": "code",
   "execution_count": 35,
   "metadata": {},
   "outputs": [
    {
     "data": {
      "text/plain": [
       "array(['NONE', 'MAGMAPEAK', 'TREETOPCITY', 'CRYSTALCAVES'], dtype=object)"
      ]
     },
     "execution_count": 35,
     "metadata": {},
     "output_type": "execute_result"
    }
   ],
   "source": [
    "TrainData.world.unique()"
   ]
  },
  {
   "cell_type": "markdown",
   "metadata": {},
   "source": [
    "By looking at [this](https://measureup.pbskids.org/) web-version of the app, we see that there are three different environments that the app provides. These are: 'MAGMAPEAK', 'TREETOPCITY', 'CRYSTALCAVES'. This matches exactly with the values that can be assigned to 'world'. \n",
    "\n",
    "However, 'world' also has 'None' as one of it's values. This happens if and only if the title is 'Welcome to Lost Lagoon!'."
   ]
  },
  {
   "cell_type": "code",
   "execution_count": 36,
   "metadata": {},
   "outputs": [
    {
     "data": {
      "text/plain": [
       "array(['Welcome to Lost Lagoon!'], dtype=object)"
      ]
     },
     "execution_count": 36,
     "metadata": {},
     "output_type": "execute_result"
    }
   ],
   "source": [
    "TrainData.loc[TrainData.world=='NONE'].title.unique()"
   ]
  },
  {
   "cell_type": "code",
   "execution_count": 37,
   "metadata": {},
   "outputs": [
    {
     "data": {
      "text/plain": [
       "array(['NONE'], dtype=object)"
      ]
     },
     "execution_count": 37,
     "metadata": {},
     "output_type": "execute_result"
    }
   ],
   "source": [
    "TrainData.loc[TrainData.title=='Welcome to Lost Lagoon!'].world.unique()"
   ]
  },
  {
   "cell_type": "markdown",
   "metadata": {},
   "source": [
    "Since 'Welcome to Lost Lagoon!'is the introductory video in the app, it does not correspond to any of the environment. This explains why it corresponding entry under the 'world' column is 'NONE'."
   ]
  },
  {
   "cell_type": "markdown",
   "metadata": {},
   "source": [
    "## train_labels.csv"
   ]
  },
  {
   "cell_type": "code",
   "execution_count": 38,
   "metadata": {},
   "outputs": [],
   "source": [
    "TrainLabels=pd.read_csv('train_labels.csv')"
   ]
  },
  {
   "cell_type": "code",
   "execution_count": 39,
   "metadata": {},
   "outputs": [
    {
     "data": {
      "text/plain": [
       "Index(['game_session', 'installation_id', 'title', 'num_correct',\n",
       "       'num_incorrect', 'accuracy', 'accuracy_group'],\n",
       "      dtype='object')"
      ]
     },
     "execution_count": 39,
     "metadata": {},
     "output_type": "execute_result"
    }
   ],
   "source": [
    "TrainLabels.keys()"
   ]
  },
  {
   "cell_type": "code",
   "execution_count": 40,
   "metadata": {},
   "outputs": [
    {
     "data": {
      "text/plain": [
       "game_session        object\n",
       "installation_id     object\n",
       "title               object\n",
       "num_correct          int64\n",
       "num_incorrect        int64\n",
       "accuracy           float64\n",
       "accuracy_group       int64\n",
       "dtype: object"
      ]
     },
     "execution_count": 40,
     "metadata": {},
     "output_type": "execute_result"
    }
   ],
   "source": [
    "TrainLabels.dtypes"
   ]
  },
  {
   "cell_type": "code",
   "execution_count": 41,
   "metadata": {},
   "outputs": [
    {
     "data": {
      "text/html": [
       "<div>\n",
       "<style scoped>\n",
       "    .dataframe tbody tr th:only-of-type {\n",
       "        vertical-align: middle;\n",
       "    }\n",
       "\n",
       "    .dataframe tbody tr th {\n",
       "        vertical-align: top;\n",
       "    }\n",
       "\n",
       "    .dataframe thead th {\n",
       "        text-align: right;\n",
       "    }\n",
       "</style>\n",
       "<table border=\"1\" class=\"dataframe\">\n",
       "  <thead>\n",
       "    <tr style=\"text-align: right;\">\n",
       "      <th></th>\n",
       "      <th>game_session</th>\n",
       "      <th>installation_id</th>\n",
       "      <th>title</th>\n",
       "      <th>num_correct</th>\n",
       "      <th>num_incorrect</th>\n",
       "      <th>accuracy</th>\n",
       "      <th>accuracy_group</th>\n",
       "    </tr>\n",
       "  </thead>\n",
       "  <tbody>\n",
       "    <tr>\n",
       "      <th>0</th>\n",
       "      <td>6bdf9623adc94d89</td>\n",
       "      <td>0006a69f</td>\n",
       "      <td>Mushroom Sorter (Assessment)</td>\n",
       "      <td>1</td>\n",
       "      <td>0</td>\n",
       "      <td>1.0</td>\n",
       "      <td>3</td>\n",
       "    </tr>\n",
       "    <tr>\n",
       "      <th>1</th>\n",
       "      <td>77b8ee947eb84b4e</td>\n",
       "      <td>0006a69f</td>\n",
       "      <td>Bird Measurer (Assessment)</td>\n",
       "      <td>0</td>\n",
       "      <td>11</td>\n",
       "      <td>0.0</td>\n",
       "      <td>0</td>\n",
       "    </tr>\n",
       "    <tr>\n",
       "      <th>2</th>\n",
       "      <td>901acc108f55a5a1</td>\n",
       "      <td>0006a69f</td>\n",
       "      <td>Mushroom Sorter (Assessment)</td>\n",
       "      <td>1</td>\n",
       "      <td>0</td>\n",
       "      <td>1.0</td>\n",
       "      <td>3</td>\n",
       "    </tr>\n",
       "    <tr>\n",
       "      <th>3</th>\n",
       "      <td>9501794defd84e4d</td>\n",
       "      <td>0006a69f</td>\n",
       "      <td>Mushroom Sorter (Assessment)</td>\n",
       "      <td>1</td>\n",
       "      <td>1</td>\n",
       "      <td>0.5</td>\n",
       "      <td>2</td>\n",
       "    </tr>\n",
       "    <tr>\n",
       "      <th>4</th>\n",
       "      <td>a9ef3ecb3d1acc6a</td>\n",
       "      <td>0006a69f</td>\n",
       "      <td>Bird Measurer (Assessment)</td>\n",
       "      <td>1</td>\n",
       "      <td>0</td>\n",
       "      <td>1.0</td>\n",
       "      <td>3</td>\n",
       "    </tr>\n",
       "  </tbody>\n",
       "</table>\n",
       "</div>"
      ],
      "text/plain": [
       "       game_session installation_id                         title  \\\n",
       "0  6bdf9623adc94d89        0006a69f  Mushroom Sorter (Assessment)   \n",
       "1  77b8ee947eb84b4e        0006a69f    Bird Measurer (Assessment)   \n",
       "2  901acc108f55a5a1        0006a69f  Mushroom Sorter (Assessment)   \n",
       "3  9501794defd84e4d        0006a69f  Mushroom Sorter (Assessment)   \n",
       "4  a9ef3ecb3d1acc6a        0006a69f    Bird Measurer (Assessment)   \n",
       "\n",
       "   num_correct  num_incorrect  accuracy  accuracy_group  \n",
       "0            1              0       1.0               3  \n",
       "1            0             11       0.0               0  \n",
       "2            1              0       1.0               3  \n",
       "3            1              1       0.5               2  \n",
       "4            1              0       1.0               3  "
      ]
     },
     "execution_count": 41,
     "metadata": {},
     "output_type": "execute_result"
    }
   ],
   "source": [
    "TrainLabels.head()"
   ]
  },
  {
   "cell_type": "code",
   "execution_count": 42,
   "metadata": {},
   "outputs": [
    {
     "data": {
      "text/html": [
       "<div>\n",
       "<style scoped>\n",
       "    .dataframe tbody tr th:only-of-type {\n",
       "        vertical-align: middle;\n",
       "    }\n",
       "\n",
       "    .dataframe tbody tr th {\n",
       "        vertical-align: top;\n",
       "    }\n",
       "\n",
       "    .dataframe thead th {\n",
       "        text-align: right;\n",
       "    }\n",
       "</style>\n",
       "<table border=\"1\" class=\"dataframe\">\n",
       "  <thead>\n",
       "    <tr style=\"text-align: right;\">\n",
       "      <th></th>\n",
       "      <th>game_session</th>\n",
       "      <th>installation_id</th>\n",
       "      <th>title</th>\n",
       "      <th>num_correct</th>\n",
       "      <th>num_incorrect</th>\n",
       "      <th>accuracy</th>\n",
       "      <th>accuracy_group</th>\n",
       "    </tr>\n",
       "  </thead>\n",
       "  <tbody>\n",
       "    <tr>\n",
       "      <th>count</th>\n",
       "      <td>17690</td>\n",
       "      <td>17690</td>\n",
       "      <td>17690</td>\n",
       "      <td>17690.000000</td>\n",
       "      <td>17690.000000</td>\n",
       "      <td>17690.000000</td>\n",
       "      <td>17690.000000</td>\n",
       "    </tr>\n",
       "    <tr>\n",
       "      <th>unique</th>\n",
       "      <td>17690</td>\n",
       "      <td>3614</td>\n",
       "      <td>5</td>\n",
       "      <td>NaN</td>\n",
       "      <td>NaN</td>\n",
       "      <td>NaN</td>\n",
       "      <td>NaN</td>\n",
       "    </tr>\n",
       "    <tr>\n",
       "      <th>top</th>\n",
       "      <td>98319b7bd1b9ef90</td>\n",
       "      <td>08987c08</td>\n",
       "      <td>Cart Balancer (Assessment)</td>\n",
       "      <td>NaN</td>\n",
       "      <td>NaN</td>\n",
       "      <td>NaN</td>\n",
       "      <td>NaN</td>\n",
       "    </tr>\n",
       "    <tr>\n",
       "      <th>freq</th>\n",
       "      <td>1</td>\n",
       "      <td>156</td>\n",
       "      <td>4151</td>\n",
       "      <td>NaN</td>\n",
       "      <td>NaN</td>\n",
       "      <td>NaN</td>\n",
       "      <td>NaN</td>\n",
       "    </tr>\n",
       "    <tr>\n",
       "      <th>mean</th>\n",
       "      <td>NaN</td>\n",
       "      <td>NaN</td>\n",
       "      <td>NaN</td>\n",
       "      <td>0.760938</td>\n",
       "      <td>1.587790</td>\n",
       "      <td>0.595810</td>\n",
       "      <td>1.885585</td>\n",
       "    </tr>\n",
       "    <tr>\n",
       "      <th>std</th>\n",
       "      <td>NaN</td>\n",
       "      <td>NaN</td>\n",
       "      <td>NaN</td>\n",
       "      <td>0.426523</td>\n",
       "      <td>3.058295</td>\n",
       "      <td>0.430559</td>\n",
       "      <td>1.256796</td>\n",
       "    </tr>\n",
       "    <tr>\n",
       "      <th>min</th>\n",
       "      <td>NaN</td>\n",
       "      <td>NaN</td>\n",
       "      <td>NaN</td>\n",
       "      <td>0.000000</td>\n",
       "      <td>0.000000</td>\n",
       "      <td>0.000000</td>\n",
       "      <td>0.000000</td>\n",
       "    </tr>\n",
       "    <tr>\n",
       "      <th>25%</th>\n",
       "      <td>NaN</td>\n",
       "      <td>NaN</td>\n",
       "      <td>NaN</td>\n",
       "      <td>1.000000</td>\n",
       "      <td>0.000000</td>\n",
       "      <td>0.111111</td>\n",
       "      <td>1.000000</td>\n",
       "    </tr>\n",
       "    <tr>\n",
       "      <th>50%</th>\n",
       "      <td>NaN</td>\n",
       "      <td>NaN</td>\n",
       "      <td>NaN</td>\n",
       "      <td>1.000000</td>\n",
       "      <td>0.500000</td>\n",
       "      <td>0.750000</td>\n",
       "      <td>2.500000</td>\n",
       "    </tr>\n",
       "    <tr>\n",
       "      <th>75%</th>\n",
       "      <td>NaN</td>\n",
       "      <td>NaN</td>\n",
       "      <td>NaN</td>\n",
       "      <td>1.000000</td>\n",
       "      <td>2.000000</td>\n",
       "      <td>1.000000</td>\n",
       "      <td>3.000000</td>\n",
       "    </tr>\n",
       "    <tr>\n",
       "      <th>max</th>\n",
       "      <td>NaN</td>\n",
       "      <td>NaN</td>\n",
       "      <td>NaN</td>\n",
       "      <td>1.000000</td>\n",
       "      <td>85.000000</td>\n",
       "      <td>1.000000</td>\n",
       "      <td>3.000000</td>\n",
       "    </tr>\n",
       "  </tbody>\n",
       "</table>\n",
       "</div>"
      ],
      "text/plain": [
       "            game_session installation_id                       title  \\\n",
       "count              17690           17690                       17690   \n",
       "unique             17690            3614                           5   \n",
       "top     98319b7bd1b9ef90        08987c08  Cart Balancer (Assessment)   \n",
       "freq                   1             156                        4151   \n",
       "mean                 NaN             NaN                         NaN   \n",
       "std                  NaN             NaN                         NaN   \n",
       "min                  NaN             NaN                         NaN   \n",
       "25%                  NaN             NaN                         NaN   \n",
       "50%                  NaN             NaN                         NaN   \n",
       "75%                  NaN             NaN                         NaN   \n",
       "max                  NaN             NaN                         NaN   \n",
       "\n",
       "         num_correct  num_incorrect      accuracy  accuracy_group  \n",
       "count   17690.000000   17690.000000  17690.000000    17690.000000  \n",
       "unique           NaN            NaN           NaN             NaN  \n",
       "top              NaN            NaN           NaN             NaN  \n",
       "freq             NaN            NaN           NaN             NaN  \n",
       "mean        0.760938       1.587790      0.595810        1.885585  \n",
       "std         0.426523       3.058295      0.430559        1.256796  \n",
       "min         0.000000       0.000000      0.000000        0.000000  \n",
       "25%         1.000000       0.000000      0.111111        1.000000  \n",
       "50%         1.000000       0.500000      0.750000        2.500000  \n",
       "75%         1.000000       2.000000      1.000000        3.000000  \n",
       "max         1.000000      85.000000      1.000000        3.000000  "
      ]
     },
     "execution_count": 42,
     "metadata": {},
     "output_type": "execute_result"
    }
   ],
   "source": [
    "TrainLabels.describe(include='all')"
   ]
  },
  {
   "cell_type": "markdown",
   "metadata": {},
   "source": [
    "let us look at the different unique values for the column 'title' in this dataset."
   ]
  },
  {
   "cell_type": "code",
   "execution_count": 43,
   "metadata": {},
   "outputs": [
    {
     "data": {
      "text/plain": [
       "array(['Mushroom Sorter (Assessment)', 'Bird Measurer (Assessment)',\n",
       "       'Cauldron Filler (Assessment)', 'Chest Sorter (Assessment)',\n",
       "       'Cart Balancer (Assessment)'], dtype=object)"
      ]
     },
     "execution_count": 43,
     "metadata": {},
     "output_type": "execute_result"
    }
   ],
   "source": [
    "TrainLabels.title.unique()"
   ]
  },
  {
   "cell_type": "raw",
   "metadata": {},
   "source": [
    "From looking at the different unique values under the column 'title' in this dataset, we find that it always an assessment. Thus we conclude that this dataset contains assesment results. Having established this, it is straightforward to realize that the columns 'num_correct' and 'num_incorrect' represent the number of correct and incorrect answers leading to the assesment solution. "
   ]
  },
  {
   "cell_type": "markdown",
   "metadata": {},
   "source": [
    "We conjecture that the column 'accuracy' simply represents the ratio of correct answers to the total number of attempts. In order to check that this is indeed the case, let's contruct another column with exactly this information and it's entries match with those under 'accuracy'"
   ]
  },
  {
   "cell_type": "code",
   "execution_count": 44,
   "metadata": {},
   "outputs": [],
   "source": [
    "TrainLabels['ratio_of_correct']=TrainLabels['num_correct']/(\n",
    "    TrainLabels['num_correct']+TrainLabels['num_incorrect'])"
   ]
  },
  {
   "cell_type": "markdown",
   "metadata": {},
   "source": [
    "To avoid false mismatch due to difference in precision, we will assume that ratio_of_correct is same as accuracy if the difference between them is less than 10**(-16)"
   ]
  },
  {
   "cell_type": "code",
   "execution_count": 45,
   "metadata": {},
   "outputs": [
    {
     "data": {
      "text/plain": [
       "True"
      ]
     },
     "execution_count": 45,
     "metadata": {},
     "output_type": "execute_result"
    }
   ],
   "source": [
    "(TrainLabels['ratio_of_correct']-TrainLabels['accuracy']<(10**(-16))).values.all()"
   ]
  },
  {
   "cell_type": "markdown",
   "metadata": {},
   "source": [
    "We thus see that 'accuracy' is indeed given by the ratio of correct answers to the total number of attempts."
   ]
  },
  {
   "cell_type": "code",
   "execution_count": 46,
   "metadata": {},
   "outputs": [],
   "source": [
    "# Delete ratio_of_correct as it is same as accuracy\n",
    "TrainLabels.drop(['ratio_of_correct'], axis=1, inplace=True)"
   ]
  },
  {
   "cell_type": "code",
   "execution_count": 47,
   "metadata": {},
   "outputs": [
    {
     "data": {
      "text/plain": [
       "Index(['game_session', 'installation_id', 'title', 'num_correct',\n",
       "       'num_incorrect', 'accuracy', 'accuracy_group'],\n",
       "      dtype='object')"
      ]
     },
     "execution_count": 47,
     "metadata": {},
     "output_type": "execute_result"
    }
   ],
   "source": [
    "TrainLabels.keys()"
   ]
  },
  {
   "cell_type": "markdown",
   "metadata": {},
   "source": [
    "As the name suggest 'accuracy_group' is the accuracy_group assigned as a result of the assessment. This is our Target Variable."
   ]
  },
  {
   "cell_type": "code",
   "execution_count": 51,
   "metadata": {},
   "outputs": [
    {
     "data": {
      "text/plain": [
       "False"
      ]
     },
     "execution_count": 51,
     "metadata": {},
     "output_type": "execute_result"
    }
   ],
   "source": [
    "# checking if num_correct was ever greater than 1\n",
    "(TrainLabels.num_correct>1).values.any()"
   ]
  },
  {
   "cell_type": "code",
   "execution_count": 54,
   "metadata": {},
   "outputs": [
    {
     "data": {
      "text/plain": [
       "array([1, 0], dtype=int64)"
      ]
     },
     "execution_count": 54,
     "metadata": {},
     "output_type": "execute_result"
    }
   ],
   "source": [
    "TrainLabels.num_correct.unique()"
   ]
  },
  {
   "cell_type": "markdown",
   "metadata": {},
   "source": [
    "As expected, num_correct is only takes the values 1 or 0"
   ]
  },
  {
   "cell_type": "code",
   "execution_count": 48,
   "metadata": {},
   "outputs": [
    {
     "data": {
      "text/plain": [
       "17000"
      ]
     },
     "execution_count": 48,
     "metadata": {},
     "output_type": "execute_result"
    }
   ],
   "source": [
    "len(TrainData.installation_id.unique())"
   ]
  },
  {
   "cell_type": "code",
   "execution_count": 49,
   "metadata": {},
   "outputs": [
    {
     "data": {
      "text/plain": [
       "3614"
      ]
     },
     "execution_count": 49,
     "metadata": {},
     "output_type": "execute_result"
    }
   ],
   "source": [
    "len(TrainLabels.installation_id.unique())"
   ]
  },
  {
   "cell_type": "markdown",
   "metadata": {},
   "source": [
    "Note that it is mentioned on the Data description page of the competition that the \"training set contains many installation_ids which never took assessments\". Thus it is no suprize that train.csv contains data about 17000 unique installation_ids but train_labels.csv only contains the assesment of a mere 3614 installation_ids. "
   ]
  },
  {
   "cell_type": "markdown",
   "metadata": {},
   "source": [
    "Also, note that that it appears that the same installation_id could have taken the same assessment multiple times i.e. same assessment with multiple game sessions. For e.g. let's look at installation_id=0006a69f and assessment titled 'Mushroom Sorter (Assessment)'"
   ]
  },
  {
   "cell_type": "code",
   "execution_count": 135,
   "metadata": {},
   "outputs": [
    {
     "data": {
      "text/html": [
       "<div>\n",
       "<style scoped>\n",
       "    .dataframe tbody tr th:only-of-type {\n",
       "        vertical-align: middle;\n",
       "    }\n",
       "\n",
       "    .dataframe tbody tr th {\n",
       "        vertical-align: top;\n",
       "    }\n",
       "\n",
       "    .dataframe thead th {\n",
       "        text-align: right;\n",
       "    }\n",
       "</style>\n",
       "<table border=\"1\" class=\"dataframe\">\n",
       "  <thead>\n",
       "    <tr style=\"text-align: right;\">\n",
       "      <th></th>\n",
       "      <th>game_session</th>\n",
       "      <th>installation_id</th>\n",
       "      <th>title</th>\n",
       "      <th>num_correct</th>\n",
       "      <th>num_incorrect</th>\n",
       "      <th>accuracy</th>\n",
       "      <th>accuracy_group</th>\n",
       "    </tr>\n",
       "  </thead>\n",
       "  <tbody>\n",
       "    <tr>\n",
       "      <th>0</th>\n",
       "      <td>6bdf9623adc94d89</td>\n",
       "      <td>0006a69f</td>\n",
       "      <td>Mushroom Sorter (Assessment)</td>\n",
       "      <td>1</td>\n",
       "      <td>0</td>\n",
       "      <td>1.0</td>\n",
       "      <td>3</td>\n",
       "    </tr>\n",
       "    <tr>\n",
       "      <th>2</th>\n",
       "      <td>901acc108f55a5a1</td>\n",
       "      <td>0006a69f</td>\n",
       "      <td>Mushroom Sorter (Assessment)</td>\n",
       "      <td>1</td>\n",
       "      <td>0</td>\n",
       "      <td>1.0</td>\n",
       "      <td>3</td>\n",
       "    </tr>\n",
       "    <tr>\n",
       "      <th>3</th>\n",
       "      <td>9501794defd84e4d</td>\n",
       "      <td>0006a69f</td>\n",
       "      <td>Mushroom Sorter (Assessment)</td>\n",
       "      <td>1</td>\n",
       "      <td>1</td>\n",
       "      <td>0.5</td>\n",
       "      <td>2</td>\n",
       "    </tr>\n",
       "  </tbody>\n",
       "</table>\n",
       "</div>"
      ],
      "text/plain": [
       "       game_session installation_id                         title  \\\n",
       "0  6bdf9623adc94d89        0006a69f  Mushroom Sorter (Assessment)   \n",
       "2  901acc108f55a5a1        0006a69f  Mushroom Sorter (Assessment)   \n",
       "3  9501794defd84e4d        0006a69f  Mushroom Sorter (Assessment)   \n",
       "\n",
       "   num_correct  num_incorrect  accuracy  accuracy_group  \n",
       "0            1              0       1.0               3  \n",
       "2            1              0       1.0               3  \n",
       "3            1              1       0.5               2  "
      ]
     },
     "execution_count": 135,
     "metadata": {},
     "output_type": "execute_result"
    }
   ],
   "source": [
    "TrainLabels.loc[(TrainLabels.installation_id=='0006a69f') \n",
    "                & (TrainLabels.title=='Mushroom Sorter (Assessment)')]"
   ]
  },
  {
   "cell_type": "markdown",
   "metadata": {},
   "source": [
    "We see that there are 3 game sessions associated to '0006a69f' where they took the same assessment.  This actually gives us and idea: We can check how the scores of a particular installation_id improve as they take the same assessment again and again. For this we will need the time_stamp of each game session. "
   ]
  },
  {
   "cell_type": "markdown",
   "metadata": {},
   "source": [
    "## specs.csv"
   ]
  },
  {
   "cell_type": "code",
   "execution_count": 55,
   "metadata": {},
   "outputs": [],
   "source": [
    "Specs=pd.read_csv('specs.csv')"
   ]
  },
  {
   "cell_type": "code",
   "execution_count": 56,
   "metadata": {},
   "outputs": [
    {
     "data": {
      "text/plain": [
       "Index(['event_id', 'info', 'args'], dtype='object')"
      ]
     },
     "execution_count": 56,
     "metadata": {},
     "output_type": "execute_result"
    }
   ],
   "source": [
    "Specs.keys()"
   ]
  },
  {
   "cell_type": "code",
   "execution_count": 57,
   "metadata": {},
   "outputs": [
    {
     "data": {
      "text/html": [
       "<div>\n",
       "<style scoped>\n",
       "    .dataframe tbody tr th:only-of-type {\n",
       "        vertical-align: middle;\n",
       "    }\n",
       "\n",
       "    .dataframe tbody tr th {\n",
       "        vertical-align: top;\n",
       "    }\n",
       "\n",
       "    .dataframe thead th {\n",
       "        text-align: right;\n",
       "    }\n",
       "</style>\n",
       "<table border=\"1\" class=\"dataframe\">\n",
       "  <thead>\n",
       "    <tr style=\"text-align: right;\">\n",
       "      <th></th>\n",
       "      <th>event_id</th>\n",
       "      <th>info</th>\n",
       "      <th>args</th>\n",
       "    </tr>\n",
       "  </thead>\n",
       "  <tbody>\n",
       "    <tr>\n",
       "      <th>0</th>\n",
       "      <td>2b9272f4</td>\n",
       "      <td>The end of system-initiated feedback (Correct)...</td>\n",
       "      <td>[{\"name\":\"game_time\",\"type\":\"int\",\"info\":\"mill...</td>\n",
       "    </tr>\n",
       "    <tr>\n",
       "      <th>1</th>\n",
       "      <td>df4fe8b6</td>\n",
       "      <td>The end of system-initiated feedback (Incorrec...</td>\n",
       "      <td>[{\"name\":\"game_time\",\"type\":\"int\",\"info\":\"mill...</td>\n",
       "    </tr>\n",
       "    <tr>\n",
       "      <th>2</th>\n",
       "      <td>3babcb9b</td>\n",
       "      <td>The end of system-initiated instruction event ...</td>\n",
       "      <td>[{\"name\":\"game_time\",\"type\":\"int\",\"info\":\"mill...</td>\n",
       "    </tr>\n",
       "    <tr>\n",
       "      <th>3</th>\n",
       "      <td>7f0836bf</td>\n",
       "      <td>The end of system-initiated instruction event ...</td>\n",
       "      <td>[{\"name\":\"game_time\",\"type\":\"int\",\"info\":\"mill...</td>\n",
       "    </tr>\n",
       "    <tr>\n",
       "      <th>4</th>\n",
       "      <td>ab3136ba</td>\n",
       "      <td>The end of system-initiated instruction event ...</td>\n",
       "      <td>[{\"name\":\"game_time\",\"type\":\"int\",\"info\":\"mill...</td>\n",
       "    </tr>\n",
       "  </tbody>\n",
       "</table>\n",
       "</div>"
      ],
      "text/plain": [
       "   event_id                                               info  \\\n",
       "0  2b9272f4  The end of system-initiated feedback (Correct)...   \n",
       "1  df4fe8b6  The end of system-initiated feedback (Incorrec...   \n",
       "2  3babcb9b  The end of system-initiated instruction event ...   \n",
       "3  7f0836bf  The end of system-initiated instruction event ...   \n",
       "4  ab3136ba  The end of system-initiated instruction event ...   \n",
       "\n",
       "                                                args  \n",
       "0  [{\"name\":\"game_time\",\"type\":\"int\",\"info\":\"mill...  \n",
       "1  [{\"name\":\"game_time\",\"type\":\"int\",\"info\":\"mill...  \n",
       "2  [{\"name\":\"game_time\",\"type\":\"int\",\"info\":\"mill...  \n",
       "3  [{\"name\":\"game_time\",\"type\":\"int\",\"info\":\"mill...  \n",
       "4  [{\"name\":\"game_time\",\"type\":\"int\",\"info\":\"mill...  "
      ]
     },
     "execution_count": 57,
     "metadata": {},
     "output_type": "execute_result"
    }
   ],
   "source": [
    "Specs.head()"
   ]
  },
  {
   "cell_type": "code",
   "execution_count": 62,
   "metadata": {},
   "outputs": [
    {
     "data": {
      "text/html": [
       "<div>\n",
       "<style scoped>\n",
       "    .dataframe tbody tr th:only-of-type {\n",
       "        vertical-align: middle;\n",
       "    }\n",
       "\n",
       "    .dataframe tbody tr th {\n",
       "        vertical-align: top;\n",
       "    }\n",
       "\n",
       "    .dataframe thead th {\n",
       "        text-align: right;\n",
       "    }\n",
       "</style>\n",
       "<table border=\"1\" class=\"dataframe\">\n",
       "  <thead>\n",
       "    <tr style=\"text-align: right;\">\n",
       "      <th></th>\n",
       "      <th>event_id</th>\n",
       "      <th>info</th>\n",
       "      <th>args</th>\n",
       "    </tr>\n",
       "  </thead>\n",
       "  <tbody>\n",
       "    <tr>\n",
       "      <th>count</th>\n",
       "      <td>386</td>\n",
       "      <td>386</td>\n",
       "      <td>386</td>\n",
       "    </tr>\n",
       "    <tr>\n",
       "      <th>unique</th>\n",
       "      <td>386</td>\n",
       "      <td>168</td>\n",
       "      <td>191</td>\n",
       "    </tr>\n",
       "    <tr>\n",
       "      <th>top</th>\n",
       "      <td>4a4c3d21</td>\n",
       "      <td>This event occurs when the player clicks on th...</td>\n",
       "      <td>[{\"name\":\"game_time\",\"type\":\"int\",\"info\":\"mill...</td>\n",
       "    </tr>\n",
       "    <tr>\n",
       "      <th>freq</th>\n",
       "      <td>1</td>\n",
       "      <td>17</td>\n",
       "      <td>25</td>\n",
       "    </tr>\n",
       "  </tbody>\n",
       "</table>\n",
       "</div>"
      ],
      "text/plain": [
       "        event_id                                               info  \\\n",
       "count        386                                                386   \n",
       "unique       386                                                168   \n",
       "top     4a4c3d21  This event occurs when the player clicks on th...   \n",
       "freq           1                                                 17   \n",
       "\n",
       "                                                     args  \n",
       "count                                                 386  \n",
       "unique                                                191  \n",
       "top     [{\"name\":\"game_time\",\"type\":\"int\",\"info\":\"mill...  \n",
       "freq                                                   25  "
      ]
     },
     "execution_count": 62,
     "metadata": {},
     "output_type": "execute_result"
    }
   ],
   "source": [
    "Specs.describe()"
   ]
  },
  {
   "cell_type": "code",
   "execution_count": 68,
   "metadata": {},
   "outputs": [
    {
     "data": {
      "text/plain": [
       "'[{\"name\":\"game_time\",\"type\":\"int\",\"info\":\"millisecond count since start of game\"},{\"name\":\"round\",\"type\":\"int\",\"info\":\"number of the current round when the event takes place or 0 if no round\"},{\"name\":\"level\",\"type\":\"int\",\"info\":\"number of the current level when the event takes place or 0 if no level\"},{\"name\":\"description\",\"type\":\"string\",\"info\":\"the text or description of the instruction\"},{\"name\":\"identifier\",\"type\":\"string\",\"info\":\"a unique identifier for this piece of instruction\"},{\"name\":\"media_type\",\"type\":\"string\",\"info\":\"the type of media that has just played:\\\\n\\'audio\\' || \\'animation\\' || \\'other\\'\"},{\"name\":\"duration\",\"type\":\"int\",\"info\":\"the duration of the media playback in milliseconds\"},{\"name\":\"event_count\",\"type\":\"int\",\"info\":\"session event counter\"},{\"name\":\"event_code\",\"type\":\"int\",\"info\":\"event class identifier\"}]'"
      ]
     },
     "execution_count": 68,
     "metadata": {},
     "output_type": "execute_result"
    }
   ],
   "source": [
    "Specs.iloc[0].args"
   ]
  },
  {
   "cell_type": "code",
   "execution_count": 69,
   "metadata": {},
   "outputs": [
    {
     "data": {
      "text/plain": [
       "'The end of system-initiated feedback (Correct) event occurs when the game finishes delivering feedback to the player in response to a correct round attempt (pressing the go button with the correct answer). It contains information that describes the duration and content of the instruction, and will likely occur in conjunction with a beat round event. These events are used to determine the effectiveness of the feedback. We can answer questions like, \"how much time elapsed while the game was presenting feedback?\"'"
      ]
     },
     "execution_count": 69,
     "metadata": {},
     "output_type": "execute_result"
    }
   ],
   "source": [
    "Specs.iloc[0].info"
   ]
  },
  {
   "cell_type": "markdown",
   "metadata": {},
   "source": [
    "It seems like, Specs contains the description of various event_id's."
   ]
  },
  {
   "cell_type": "markdown",
   "metadata": {},
   "source": [
    "# Further EDA"
   ]
  },
  {
   "cell_type": "markdown",
   "metadata": {},
   "source": [
    "To understand the meaning of various columns further let's merge TrainData, Specs and TrainLabels. \n",
    "\n",
    "Since Specs seems to contain the description of different event_ids, we will merge this with TrainData on event_id. \n",
    "\n",
    "Similarly, since TrainLabels contains the assessment information for each installation_id, we will merge this with TrainData on installation_id and the title of the corresponding assessment. Since, as we saw earlier in the EDA for train_labels.csv, the same installation_id at times takes the same assessment in multiple game sessions, we will also use 'game_session' for merging TrainData and TrainLabels. "
   ]
  },
  {
   "cell_type": "markdown",
   "metadata": {},
   "source": [
    "### Merging TrainData with Specs and TrainLabels"
   ]
  },
  {
   "cell_type": "code",
   "execution_count": 119,
   "metadata": {},
   "outputs": [
    {
     "data": {
      "text/plain": [
       "(11341042, 11)"
      ]
     },
     "execution_count": 119,
     "metadata": {},
     "output_type": "execute_result"
    }
   ],
   "source": [
    "TrainData.shape"
   ]
  },
  {
   "cell_type": "code",
   "execution_count": 120,
   "metadata": {},
   "outputs": [],
   "source": [
    "TrainData=TrainData.merge(Specs, how='left', on='event_id')"
   ]
  },
  {
   "cell_type": "code",
   "execution_count": 121,
   "metadata": {},
   "outputs": [
    {
     "data": {
      "text/plain": [
       "(11341042, 13)"
      ]
     },
     "execution_count": 121,
     "metadata": {},
     "output_type": "execute_result"
    }
   ],
   "source": [
    "TrainData.shape"
   ]
  },
  {
   "cell_type": "code",
   "execution_count": 122,
   "metadata": {},
   "outputs": [],
   "source": [
    "TrainData=TrainData.merge(TrainLabels, how='left', \n",
    "                          on=['installation_id', 'title', 'game_session'])"
   ]
  },
  {
   "cell_type": "code",
   "execution_count": 123,
   "metadata": {},
   "outputs": [
    {
     "data": {
      "text/plain": [
       "(11341042, 17)"
      ]
     },
     "execution_count": 123,
     "metadata": {},
     "output_type": "execute_result"
    }
   ],
   "source": [
    "TrainData.shape"
   ]
  },
  {
   "cell_type": "code",
   "execution_count": 125,
   "metadata": {},
   "outputs": [
    {
     "data": {
      "text/plain": [
       "Index(['event_id', 'game_session', 'timestamp', 'event_data',\n",
       "       'installation_id', 'event_count', 'event_code', 'game_time', 'title',\n",
       "       'type', 'world', 'info', 'args', 'num_correct', 'num_incorrect',\n",
       "       'accuracy', 'accuracy_group'],\n",
       "      dtype='object')"
      ]
     },
     "execution_count": 125,
     "metadata": {},
     "output_type": "execute_result"
    }
   ],
   "source": [
    "TrainData.keys()"
   ]
  },
  {
   "cell_type": "markdown",
   "metadata": {},
   "source": [
    "__In the following I will try to understand what does event_code represent?__"
   ]
  },
  {
   "cell_type": "code",
   "execution_count": 169,
   "metadata": {
    "scrolled": true
   },
   "outputs": [
    {
     "data": {
      "text/plain": [
       "array([2000, 2025, 3010, 3110, 4025, 3021, 3121, 4070, 2035, 2020, 4030,\n",
       "       4020, 4040, 4100, 2030, 2010], dtype=int64)"
      ]
     },
     "execution_count": 169,
     "metadata": {},
     "output_type": "execute_result"
    }
   ],
   "source": [
    "TrainData.loc[(TrainData.installation_id=='0006a69f')\n",
    "              & (TrainData.title=='Mushroom Sorter (Assessment)') \n",
    "              & (TrainData.game_session=='901acc108f55a5a1')].event_code.unique()"
   ]
  },
  {
   "cell_type": "code",
   "execution_count": 189,
   "metadata": {
    "scrolled": true
   },
   "outputs": [
    {
     "data": {
      "text/html": [
       "<div>\n",
       "<style scoped>\n",
       "    .dataframe tbody tr th:only-of-type {\n",
       "        vertical-align: middle;\n",
       "    }\n",
       "\n",
       "    .dataframe tbody tr th {\n",
       "        vertical-align: top;\n",
       "    }\n",
       "\n",
       "    .dataframe thead th {\n",
       "        text-align: right;\n",
       "    }\n",
       "</style>\n",
       "<table border=\"1\" class=\"dataframe\">\n",
       "  <thead>\n",
       "    <tr style=\"text-align: right;\">\n",
       "      <th></th>\n",
       "      <th>event_id</th>\n",
       "      <th>game_session</th>\n",
       "      <th>timestamp</th>\n",
       "      <th>event_data</th>\n",
       "      <th>installation_id</th>\n",
       "      <th>event_count</th>\n",
       "      <th>event_code</th>\n",
       "      <th>game_time</th>\n",
       "      <th>title</th>\n",
       "      <th>type</th>\n",
       "      <th>world</th>\n",
       "      <th>info</th>\n",
       "      <th>args</th>\n",
       "      <th>num_correct</th>\n",
       "      <th>num_incorrect</th>\n",
       "      <th>accuracy</th>\n",
       "      <th>accuracy_group</th>\n",
       "    </tr>\n",
       "  </thead>\n",
       "  <tbody>\n",
       "    <tr>\n",
       "      <th>2185</th>\n",
       "      <td>3bfd1a65</td>\n",
       "      <td>901acc108f55a5a1</td>\n",
       "      <td>2019-08-06T05:22:01.344Z</td>\n",
       "      <td>{\"version\":\"1.0\",\"event_count\":1,\"game_time\":0...</td>\n",
       "      <td>0006a69f</td>\n",
       "      <td>1</td>\n",
       "      <td>2000</td>\n",
       "      <td>0</td>\n",
       "      <td>Mushroom Sorter (Assessment)</td>\n",
       "      <td>Assessment</td>\n",
       "      <td>TREETOPCITY</td>\n",
       "      <td>The start game event is triggered at the very ...</td>\n",
       "      <td>[{\"name\":\"game_time\",\"type\":\"int\",\"info\":\"mill...</td>\n",
       "      <td>1.0</td>\n",
       "      <td>0.0</td>\n",
       "      <td>1.0</td>\n",
       "      <td>3.0</td>\n",
       "    </tr>\n",
       "  </tbody>\n",
       "</table>\n",
       "</div>"
      ],
      "text/plain": [
       "      event_id      game_session                 timestamp  \\\n",
       "2185  3bfd1a65  901acc108f55a5a1  2019-08-06T05:22:01.344Z   \n",
       "\n",
       "                                             event_data installation_id  \\\n",
       "2185  {\"version\":\"1.0\",\"event_count\":1,\"game_time\":0...        0006a69f   \n",
       "\n",
       "      event_count  event_code  game_time                         title  \\\n",
       "2185            1        2000          0  Mushroom Sorter (Assessment)   \n",
       "\n",
       "            type        world  \\\n",
       "2185  Assessment  TREETOPCITY   \n",
       "\n",
       "                                                   info  \\\n",
       "2185  The start game event is triggered at the very ...   \n",
       "\n",
       "                                                   args  num_correct  \\\n",
       "2185  [{\"name\":\"game_time\",\"type\":\"int\",\"info\":\"mill...          1.0   \n",
       "\n",
       "      num_incorrect  accuracy  accuracy_group  \n",
       "2185            0.0       1.0             3.0  "
      ]
     },
     "execution_count": 189,
     "metadata": {},
     "output_type": "execute_result"
    }
   ],
   "source": [
    "TrainData.loc[(TrainData.installation_id=='0006a69f')\n",
    "              & (TrainData.title=='Mushroom Sorter (Assessment)') \n",
    "              & (TrainData.game_session=='901acc108f55a5a1') \n",
    "              & (TrainData.event_code==2000) ]"
   ]
  },
  {
   "cell_type": "code",
   "execution_count": 181,
   "metadata": {},
   "outputs": [
    {
     "data": {
      "text/plain": [
       "153    The start game event is triggered at the very ...\n",
       "Name: info, dtype: object"
      ]
     },
     "execution_count": 181,
     "metadata": {},
     "output_type": "execute_result"
    }
   ],
   "source": [
    "Specs.loc[Specs.event_id=='3bfd1a65']['info']"
   ]
  },
  {
   "cell_type": "code",
   "execution_count": 185,
   "metadata": {},
   "outputs": [
    {
     "data": {
      "text/plain": [
       "array(['Mushroom Sorter (Assessment)'], dtype=object)"
      ]
     },
     "execution_count": 185,
     "metadata": {},
     "output_type": "execute_result"
    }
   ],
   "source": [
    "TrainData.loc[(TrainData.installation_id=='0006a69f')\n",
    "              & (TrainData.game_session=='901acc108f55a5a1')  ].title.unique()"
   ]
  },
  {
   "cell_type": "code",
   "execution_count": 190,
   "metadata": {},
   "outputs": [
    {
     "data": {
      "text/html": [
       "<div>\n",
       "<style scoped>\n",
       "    .dataframe tbody tr th:only-of-type {\n",
       "        vertical-align: middle;\n",
       "    }\n",
       "\n",
       "    .dataframe tbody tr th {\n",
       "        vertical-align: top;\n",
       "    }\n",
       "\n",
       "    .dataframe thead th {\n",
       "        text-align: right;\n",
       "    }\n",
       "</style>\n",
       "<table border=\"1\" class=\"dataframe\">\n",
       "  <thead>\n",
       "    <tr style=\"text-align: right;\">\n",
       "      <th></th>\n",
       "      <th>event_id</th>\n",
       "      <th>game_session</th>\n",
       "      <th>timestamp</th>\n",
       "      <th>event_data</th>\n",
       "      <th>installation_id</th>\n",
       "      <th>event_count</th>\n",
       "      <th>event_code</th>\n",
       "      <th>game_time</th>\n",
       "      <th>title</th>\n",
       "      <th>type</th>\n",
       "      <th>world</th>\n",
       "      <th>info</th>\n",
       "      <th>args</th>\n",
       "      <th>num_correct</th>\n",
       "      <th>num_incorrect</th>\n",
       "      <th>accuracy</th>\n",
       "      <th>accuracy_group</th>\n",
       "    </tr>\n",
       "  </thead>\n",
       "  <tbody>\n",
       "    <tr>\n",
       "      <th>2185</th>\n",
       "      <td>3bfd1a65</td>\n",
       "      <td>901acc108f55a5a1</td>\n",
       "      <td>2019-08-06T05:22:01.344Z</td>\n",
       "      <td>{\"version\":\"1.0\",\"event_count\":1,\"game_time\":0...</td>\n",
       "      <td>0006a69f</td>\n",
       "      <td>1</td>\n",
       "      <td>2000</td>\n",
       "      <td>0</td>\n",
       "      <td>Mushroom Sorter (Assessment)</td>\n",
       "      <td>Assessment</td>\n",
       "      <td>TREETOPCITY</td>\n",
       "      <td>The start game event is triggered at the very ...</td>\n",
       "      <td>[{\"name\":\"game_time\",\"type\":\"int\",\"info\":\"mill...</td>\n",
       "      <td>1.0</td>\n",
       "      <td>0.0</td>\n",
       "      <td>1.0</td>\n",
       "      <td>3.0</td>\n",
       "    </tr>\n",
       "    <tr>\n",
       "      <th>2186</th>\n",
       "      <td>db02c830</td>\n",
       "      <td>901acc108f55a5a1</td>\n",
       "      <td>2019-08-06T05:22:01.400Z</td>\n",
       "      <td>{\"event_count\":2,\"game_time\":37,\"event_code\":2...</td>\n",
       "      <td>0006a69f</td>\n",
       "      <td>2</td>\n",
       "      <td>2025</td>\n",
       "      <td>37</td>\n",
       "      <td>Mushroom Sorter (Assessment)</td>\n",
       "      <td>Assessment</td>\n",
       "      <td>TREETOPCITY</td>\n",
       "      <td>The start picking mushrooms event is triggered...</td>\n",
       "      <td>[{\"name\":\"game_time\",\"type\":\"int\",\"info\":\"mill...</td>\n",
       "      <td>1.0</td>\n",
       "      <td>0.0</td>\n",
       "      <td>1.0</td>\n",
       "      <td>3.0</td>\n",
       "    </tr>\n",
       "    <tr>\n",
       "      <th>2187</th>\n",
       "      <td>a1e4395d</td>\n",
       "      <td>901acc108f55a5a1</td>\n",
       "      <td>2019-08-06T05:22:01.403Z</td>\n",
       "      <td>{\"description\":\"Pull three mushrooms out of th...</td>\n",
       "      <td>0006a69f</td>\n",
       "      <td>3</td>\n",
       "      <td>3010</td>\n",
       "      <td>37</td>\n",
       "      <td>Mushroom Sorter (Assessment)</td>\n",
       "      <td>Assessment</td>\n",
       "      <td>TREETOPCITY</td>\n",
       "      <td>The system-initiated instruction event occurs ...</td>\n",
       "      <td>[{\"name\":\"game_time\",\"type\":\"int\",\"info\":\"mill...</td>\n",
       "      <td>1.0</td>\n",
       "      <td>0.0</td>\n",
       "      <td>1.0</td>\n",
       "      <td>3.0</td>\n",
       "    </tr>\n",
       "    <tr>\n",
       "      <th>2188</th>\n",
       "      <td>a52b92d5</td>\n",
       "      <td>901acc108f55a5a1</td>\n",
       "      <td>2019-08-06T05:22:05.242Z</td>\n",
       "      <td>{\"description\":\"Pull three mushrooms out of th...</td>\n",
       "      <td>0006a69f</td>\n",
       "      <td>4</td>\n",
       "      <td>3110</td>\n",
       "      <td>3901</td>\n",
       "      <td>Mushroom Sorter (Assessment)</td>\n",
       "      <td>Assessment</td>\n",
       "      <td>TREETOPCITY</td>\n",
       "      <td>The end of system-initiated instruction event ...</td>\n",
       "      <td>[{\"name\":\"game_time\",\"type\":\"int\",\"info\":\"mill...</td>\n",
       "      <td>1.0</td>\n",
       "      <td>0.0</td>\n",
       "      <td>1.0</td>\n",
       "      <td>3.0</td>\n",
       "    </tr>\n",
       "    <tr>\n",
       "      <th>2189</th>\n",
       "      <td>a1e4395d</td>\n",
       "      <td>901acc108f55a5a1</td>\n",
       "      <td>2019-08-06T05:22:05.244Z</td>\n",
       "      <td>{\"description\":\"To pick a mushroom, pull it ou...</td>\n",
       "      <td>0006a69f</td>\n",
       "      <td>5</td>\n",
       "      <td>3010</td>\n",
       "      <td>3901</td>\n",
       "      <td>Mushroom Sorter (Assessment)</td>\n",
       "      <td>Assessment</td>\n",
       "      <td>TREETOPCITY</td>\n",
       "      <td>The system-initiated instruction event occurs ...</td>\n",
       "      <td>[{\"name\":\"game_time\",\"type\":\"int\",\"info\":\"mill...</td>\n",
       "      <td>1.0</td>\n",
       "      <td>0.0</td>\n",
       "      <td>1.0</td>\n",
       "      <td>3.0</td>\n",
       "    </tr>\n",
       "    <tr>\n",
       "      <th>2190</th>\n",
       "      <td>28ed704e</td>\n",
       "      <td>901acc108f55a5a1</td>\n",
       "      <td>2019-08-06T05:22:07.812Z</td>\n",
       "      <td>{\"height\":4,\"coordinates\":{\"x\":329,\"y\":550,\"st...</td>\n",
       "      <td>0006a69f</td>\n",
       "      <td>6</td>\n",
       "      <td>4025</td>\n",
       "      <td>6475</td>\n",
       "      <td>Mushroom Sorter (Assessment)</td>\n",
       "      <td>Assessment</td>\n",
       "      <td>TREETOPCITY</td>\n",
       "      <td>This event occurs when the player picks one of...</td>\n",
       "      <td>[{\"name\":\"game_time\",\"type\":\"int\",\"info\":\"mill...</td>\n",
       "      <td>1.0</td>\n",
       "      <td>0.0</td>\n",
       "      <td>1.0</td>\n",
       "      <td>3.0</td>\n",
       "    </tr>\n",
       "    <tr>\n",
       "      <th>2191</th>\n",
       "      <td>a52b92d5</td>\n",
       "      <td>901acc108f55a5a1</td>\n",
       "      <td>2019-08-06T05:22:07.812Z</td>\n",
       "      <td>{\"description\":\"To pick a mushroom, pull it ou...</td>\n",
       "      <td>0006a69f</td>\n",
       "      <td>7</td>\n",
       "      <td>3110</td>\n",
       "      <td>6475</td>\n",
       "      <td>Mushroom Sorter (Assessment)</td>\n",
       "      <td>Assessment</td>\n",
       "      <td>TREETOPCITY</td>\n",
       "      <td>The end of system-initiated instruction event ...</td>\n",
       "      <td>[{\"name\":\"game_time\",\"type\":\"int\",\"info\":\"mill...</td>\n",
       "      <td>1.0</td>\n",
       "      <td>0.0</td>\n",
       "      <td>1.0</td>\n",
       "      <td>3.0</td>\n",
       "    </tr>\n",
       "    <tr>\n",
       "      <th>2192</th>\n",
       "      <td>9d29771f</td>\n",
       "      <td>901acc108f55a5a1</td>\n",
       "      <td>2019-08-06T05:22:07.816Z</td>\n",
       "      <td>{\"description\":\"That's one!\",\"identifier\":\"Dot...</td>\n",
       "      <td>0006a69f</td>\n",
       "      <td>8</td>\n",
       "      <td>3021</td>\n",
       "      <td>6475</td>\n",
       "      <td>Mushroom Sorter (Assessment)</td>\n",
       "      <td>Assessment</td>\n",
       "      <td>TREETOPCITY</td>\n",
       "      <td>The system-initiated feedback (Correct) event ...</td>\n",
       "      <td>[{\"name\":\"game_time\",\"type\":\"int\",\"info\":\"mill...</td>\n",
       "      <td>1.0</td>\n",
       "      <td>0.0</td>\n",
       "      <td>1.0</td>\n",
       "      <td>3.0</td>\n",
       "    </tr>\n",
       "    <tr>\n",
       "      <th>2193</th>\n",
       "      <td>c74f40cd</td>\n",
       "      <td>901acc108f55a5a1</td>\n",
       "      <td>2019-08-06T05:22:08.427Z</td>\n",
       "      <td>{\"description\":\"That's one!\",\"identifier\":\"Dot...</td>\n",
       "      <td>0006a69f</td>\n",
       "      <td>9</td>\n",
       "      <td>3121</td>\n",
       "      <td>7084</td>\n",
       "      <td>Mushroom Sorter (Assessment)</td>\n",
       "      <td>Assessment</td>\n",
       "      <td>TREETOPCITY</td>\n",
       "      <td>The end of system-initiated feedback (Correct)...</td>\n",
       "      <td>[{\"name\":\"game_time\",\"type\":\"int\",\"info\":\"mill...</td>\n",
       "      <td>1.0</td>\n",
       "      <td>0.0</td>\n",
       "      <td>1.0</td>\n",
       "      <td>3.0</td>\n",
       "    </tr>\n",
       "    <tr>\n",
       "      <th>2194</th>\n",
       "      <td>28ed704e</td>\n",
       "      <td>901acc108f55a5a1</td>\n",
       "      <td>2019-08-06T05:22:09.742Z</td>\n",
       "      <td>{\"height\":1,\"coordinates\":{\"x\":176,\"y\":526,\"st...</td>\n",
       "      <td>0006a69f</td>\n",
       "      <td>10</td>\n",
       "      <td>4025</td>\n",
       "      <td>8400</td>\n",
       "      <td>Mushroom Sorter (Assessment)</td>\n",
       "      <td>Assessment</td>\n",
       "      <td>TREETOPCITY</td>\n",
       "      <td>This event occurs when the player picks one of...</td>\n",
       "      <td>[{\"name\":\"game_time\",\"type\":\"int\",\"info\":\"mill...</td>\n",
       "      <td>1.0</td>\n",
       "      <td>0.0</td>\n",
       "      <td>1.0</td>\n",
       "      <td>3.0</td>\n",
       "    </tr>\n",
       "    <tr>\n",
       "      <th>2195</th>\n",
       "      <td>9d29771f</td>\n",
       "      <td>901acc108f55a5a1</td>\n",
       "      <td>2019-08-06T05:22:09.743Z</td>\n",
       "      <td>{\"description\":\"two...\",\"identifier\":\"Dot_Two\"...</td>\n",
       "      <td>0006a69f</td>\n",
       "      <td>11</td>\n",
       "      <td>3021</td>\n",
       "      <td>8400</td>\n",
       "      <td>Mushroom Sorter (Assessment)</td>\n",
       "      <td>Assessment</td>\n",
       "      <td>TREETOPCITY</td>\n",
       "      <td>The system-initiated feedback (Correct) event ...</td>\n",
       "      <td>[{\"name\":\"game_time\",\"type\":\"int\",\"info\":\"mill...</td>\n",
       "      <td>1.0</td>\n",
       "      <td>0.0</td>\n",
       "      <td>1.0</td>\n",
       "      <td>3.0</td>\n",
       "    </tr>\n",
       "    <tr>\n",
       "      <th>2196</th>\n",
       "      <td>c74f40cd</td>\n",
       "      <td>901acc108f55a5a1</td>\n",
       "      <td>2019-08-06T05:22:10.270Z</td>\n",
       "      <td>{\"description\":\"two...\",\"identifier\":\"Dot_Two\"...</td>\n",
       "      <td>0006a69f</td>\n",
       "      <td>12</td>\n",
       "      <td>3121</td>\n",
       "      <td>8926</td>\n",
       "      <td>Mushroom Sorter (Assessment)</td>\n",
       "      <td>Assessment</td>\n",
       "      <td>TREETOPCITY</td>\n",
       "      <td>The end of system-initiated feedback (Correct)...</td>\n",
       "      <td>[{\"name\":\"game_time\",\"type\":\"int\",\"info\":\"mill...</td>\n",
       "      <td>1.0</td>\n",
       "      <td>0.0</td>\n",
       "      <td>1.0</td>\n",
       "      <td>3.0</td>\n",
       "    </tr>\n",
       "    <tr>\n",
       "      <th>2197</th>\n",
       "      <td>28ed704e</td>\n",
       "      <td>901acc108f55a5a1</td>\n",
       "      <td>2019-08-06T05:22:10.845Z</td>\n",
       "      <td>{\"height\":2,\"coordinates\":{\"x\":482,\"y\":502,\"st...</td>\n",
       "      <td>0006a69f</td>\n",
       "      <td>13</td>\n",
       "      <td>4025</td>\n",
       "      <td>9502</td>\n",
       "      <td>Mushroom Sorter (Assessment)</td>\n",
       "      <td>Assessment</td>\n",
       "      <td>TREETOPCITY</td>\n",
       "      <td>This event occurs when the player picks one of...</td>\n",
       "      <td>[{\"name\":\"game_time\",\"type\":\"int\",\"info\":\"mill...</td>\n",
       "      <td>1.0</td>\n",
       "      <td>0.0</td>\n",
       "      <td>1.0</td>\n",
       "      <td>3.0</td>\n",
       "    </tr>\n",
       "    <tr>\n",
       "      <th>2198</th>\n",
       "      <td>9d29771f</td>\n",
       "      <td>901acc108f55a5a1</td>\n",
       "      <td>2019-08-06T05:22:10.849Z</td>\n",
       "      <td>{\"description\":\"and three!\",\"identifier\":\"Dot_...</td>\n",
       "      <td>0006a69f</td>\n",
       "      <td>14</td>\n",
       "      <td>3021</td>\n",
       "      <td>9502</td>\n",
       "      <td>Mushroom Sorter (Assessment)</td>\n",
       "      <td>Assessment</td>\n",
       "      <td>TREETOPCITY</td>\n",
       "      <td>The system-initiated feedback (Correct) event ...</td>\n",
       "      <td>[{\"name\":\"game_time\",\"type\":\"int\",\"info\":\"mill...</td>\n",
       "      <td>1.0</td>\n",
       "      <td>0.0</td>\n",
       "      <td>1.0</td>\n",
       "      <td>3.0</td>\n",
       "    </tr>\n",
       "    <tr>\n",
       "      <th>2199</th>\n",
       "      <td>7da34a02</td>\n",
       "      <td>901acc108f55a5a1</td>\n",
       "      <td>2019-08-06T05:22:11.368Z</td>\n",
       "      <td>{\"coordinates\":{\"x\":697,\"y\":660,\"stage_width\":...</td>\n",
       "      <td>0006a69f</td>\n",
       "      <td>15</td>\n",
       "      <td>4070</td>\n",
       "      <td>10018</td>\n",
       "      <td>Mushroom Sorter (Assessment)</td>\n",
       "      <td>Assessment</td>\n",
       "      <td>TREETOPCITY</td>\n",
       "      <td>This event occurs when the player clicks on so...</td>\n",
       "      <td>[{\"name\":\"game_time\",\"type\":\"int\",\"info\":\"mill...</td>\n",
       "      <td>1.0</td>\n",
       "      <td>0.0</td>\n",
       "      <td>1.0</td>\n",
       "      <td>3.0</td>\n",
       "    </tr>\n",
       "    <tr>\n",
       "      <th>2200</th>\n",
       "      <td>c74f40cd</td>\n",
       "      <td>901acc108f55a5a1</td>\n",
       "      <td>2019-08-06T05:22:11.551Z</td>\n",
       "      <td>{\"description\":\"and three!\",\"identifier\":\"Dot_...</td>\n",
       "      <td>0006a69f</td>\n",
       "      <td>16</td>\n",
       "      <td>3121</td>\n",
       "      <td>10210</td>\n",
       "      <td>Mushroom Sorter (Assessment)</td>\n",
       "      <td>Assessment</td>\n",
       "      <td>TREETOPCITY</td>\n",
       "      <td>The end of system-initiated feedback (Correct)...</td>\n",
       "      <td>[{\"name\":\"game_time\",\"type\":\"int\",\"info\":\"mill...</td>\n",
       "      <td>1.0</td>\n",
       "      <td>0.0</td>\n",
       "      <td>1.0</td>\n",
       "      <td>3.0</td>\n",
       "    </tr>\n",
       "    <tr>\n",
       "      <th>2201</th>\n",
       "      <td>83c6c409</td>\n",
       "      <td>901acc108f55a5a1</td>\n",
       "      <td>2019-08-06T05:22:11.551Z</td>\n",
       "      <td>{\"duration\":10173,\"event_count\":17,\"game_time\"...</td>\n",
       "      <td>0006a69f</td>\n",
       "      <td>17</td>\n",
       "      <td>2035</td>\n",
       "      <td>10210</td>\n",
       "      <td>Mushroom Sorter (Assessment)</td>\n",
       "      <td>Assessment</td>\n",
       "      <td>TREETOPCITY</td>\n",
       "      <td>The beat round event is triggered when the pla...</td>\n",
       "      <td>[{\"name\":\"game_time\",\"type\":\"int\",\"info\":\"mill...</td>\n",
       "      <td>1.0</td>\n",
       "      <td>0.0</td>\n",
       "      <td>1.0</td>\n",
       "      <td>3.0</td>\n",
       "    </tr>\n",
       "    <tr>\n",
       "      <th>2202</th>\n",
       "      <td>3dfd4aa4</td>\n",
       "      <td>901acc108f55a5a1</td>\n",
       "      <td>2019-08-06T05:22:11.552Z</td>\n",
       "      <td>{\"event_count\":18,\"game_time\":10210,\"event_cod...</td>\n",
       "      <td>0006a69f</td>\n",
       "      <td>18</td>\n",
       "      <td>2020</td>\n",
       "      <td>10210</td>\n",
       "      <td>Mushroom Sorter (Assessment)</td>\n",
       "      <td>Assessment</td>\n",
       "      <td>TREETOPCITY</td>\n",
       "      <td>The start round event is triggered at the star...</td>\n",
       "      <td>[{\"name\":\"game_time\",\"type\":\"int\",\"info\":\"mill...</td>\n",
       "      <td>1.0</td>\n",
       "      <td>0.0</td>\n",
       "      <td>1.0</td>\n",
       "      <td>3.0</td>\n",
       "    </tr>\n",
       "    <tr>\n",
       "      <th>2203</th>\n",
       "      <td>a1e4395d</td>\n",
       "      <td>901acc108f55a5a1</td>\n",
       "      <td>2019-08-06T05:22:11.553Z</td>\n",
       "      <td>{\"description\":\"Now order these mushrooms by h...</td>\n",
       "      <td>0006a69f</td>\n",
       "      <td>19</td>\n",
       "      <td>3010</td>\n",
       "      <td>10210</td>\n",
       "      <td>Mushroom Sorter (Assessment)</td>\n",
       "      <td>Assessment</td>\n",
       "      <td>TREETOPCITY</td>\n",
       "      <td>The system-initiated instruction event occurs ...</td>\n",
       "      <td>[{\"name\":\"game_time\",\"type\":\"int\",\"info\":\"mill...</td>\n",
       "      <td>1.0</td>\n",
       "      <td>0.0</td>\n",
       "      <td>1.0</td>\n",
       "      <td>3.0</td>\n",
       "    </tr>\n",
       "    <tr>\n",
       "      <th>2204</th>\n",
       "      <td>7da34a02</td>\n",
       "      <td>901acc108f55a5a1</td>\n",
       "      <td>2019-08-06T05:22:11.884Z</td>\n",
       "      <td>{\"coordinates\":{\"x\":682,\"y\":625,\"stage_width\":...</td>\n",
       "      <td>0006a69f</td>\n",
       "      <td>20</td>\n",
       "      <td>4070</td>\n",
       "      <td>10543</td>\n",
       "      <td>Mushroom Sorter (Assessment)</td>\n",
       "      <td>Assessment</td>\n",
       "      <td>TREETOPCITY</td>\n",
       "      <td>This event occurs when the player clicks on so...</td>\n",
       "      <td>[{\"name\":\"game_time\",\"type\":\"int\",\"info\":\"mill...</td>\n",
       "      <td>1.0</td>\n",
       "      <td>0.0</td>\n",
       "      <td>1.0</td>\n",
       "      <td>3.0</td>\n",
       "    </tr>\n",
       "    <tr>\n",
       "      <th>2205</th>\n",
       "      <td>a52b92d5</td>\n",
       "      <td>901acc108f55a5a1</td>\n",
       "      <td>2019-08-06T05:22:15.582Z</td>\n",
       "      <td>{\"description\":\"Now order these mushrooms by h...</td>\n",
       "      <td>0006a69f</td>\n",
       "      <td>21</td>\n",
       "      <td>3110</td>\n",
       "      <td>14243</td>\n",
       "      <td>Mushroom Sorter (Assessment)</td>\n",
       "      <td>Assessment</td>\n",
       "      <td>TREETOPCITY</td>\n",
       "      <td>The end of system-initiated instruction event ...</td>\n",
       "      <td>[{\"name\":\"game_time\",\"type\":\"int\",\"info\":\"mill...</td>\n",
       "      <td>1.0</td>\n",
       "      <td>0.0</td>\n",
       "      <td>1.0</td>\n",
       "      <td>3.0</td>\n",
       "    </tr>\n",
       "    <tr>\n",
       "      <th>2206</th>\n",
       "      <td>7da34a02</td>\n",
       "      <td>901acc108f55a5a1</td>\n",
       "      <td>2019-08-06T05:22:17.145Z</td>\n",
       "      <td>{\"coordinates\":{\"x\":744,\"y\":379,\"stage_width\":...</td>\n",
       "      <td>0006a69f</td>\n",
       "      <td>22</td>\n",
       "      <td>4070</td>\n",
       "      <td>15793</td>\n",
       "      <td>Mushroom Sorter (Assessment)</td>\n",
       "      <td>Assessment</td>\n",
       "      <td>TREETOPCITY</td>\n",
       "      <td>This event occurs when the player clicks on so...</td>\n",
       "      <td>[{\"name\":\"game_time\",\"type\":\"int\",\"info\":\"mill...</td>\n",
       "      <td>1.0</td>\n",
       "      <td>0.0</td>\n",
       "      <td>1.0</td>\n",
       "      <td>3.0</td>\n",
       "    </tr>\n",
       "    <tr>\n",
       "      <th>2207</th>\n",
       "      <td>7da34a02</td>\n",
       "      <td>901acc108f55a5a1</td>\n",
       "      <td>2019-08-06T05:22:17.750Z</td>\n",
       "      <td>{\"coordinates\":{\"x\":311,\"y\":509,\"stage_width\":...</td>\n",
       "      <td>0006a69f</td>\n",
       "      <td>23</td>\n",
       "      <td>4070</td>\n",
       "      <td>16393</td>\n",
       "      <td>Mushroom Sorter (Assessment)</td>\n",
       "      <td>Assessment</td>\n",
       "      <td>TREETOPCITY</td>\n",
       "      <td>This event occurs when the player clicks on so...</td>\n",
       "      <td>[{\"name\":\"game_time\",\"type\":\"int\",\"info\":\"mill...</td>\n",
       "      <td>1.0</td>\n",
       "      <td>0.0</td>\n",
       "      <td>1.0</td>\n",
       "      <td>3.0</td>\n",
       "    </tr>\n",
       "    <tr>\n",
       "      <th>2208</th>\n",
       "      <td>fbaf3456</td>\n",
       "      <td>901acc108f55a5a1</td>\n",
       "      <td>2019-08-06T05:22:18.312Z</td>\n",
       "      <td>{\"height\":4,\"stumps\":[0,0,0],\"coordinates\":{\"x...</td>\n",
       "      <td>0006a69f</td>\n",
       "      <td>24</td>\n",
       "      <td>4030</td>\n",
       "      <td>16951</td>\n",
       "      <td>Mushroom Sorter (Assessment)</td>\n",
       "      <td>Assessment</td>\n",
       "      <td>TREETOPCITY</td>\n",
       "      <td>This event occurs when the player picks up a m...</td>\n",
       "      <td>[{\"name\":\"game_time\",\"type\":\"int\",\"info\":\"mill...</td>\n",
       "      <td>1.0</td>\n",
       "      <td>0.0</td>\n",
       "      <td>1.0</td>\n",
       "      <td>3.0</td>\n",
       "    </tr>\n",
       "    <tr>\n",
       "      <th>2209</th>\n",
       "      <td>5f0eb72c</td>\n",
       "      <td>901acc108f55a5a1</td>\n",
       "      <td>2019-08-06T05:22:19.499Z</td>\n",
       "      <td>{\"height\":4,\"destination\":\"right\",\"stumps\":[0,...</td>\n",
       "      <td>0006a69f</td>\n",
       "      <td>25</td>\n",
       "      <td>4020</td>\n",
       "      <td>18152</td>\n",
       "      <td>Mushroom Sorter (Assessment)</td>\n",
       "      <td>Assessment</td>\n",
       "      <td>TREETOPCITY</td>\n",
       "      <td>This event occurs when the player places a mus...</td>\n",
       "      <td>[{\"name\":\"game_time\",\"type\":\"int\",\"info\":\"mill...</td>\n",
       "      <td>1.0</td>\n",
       "      <td>0.0</td>\n",
       "      <td>1.0</td>\n",
       "      <td>3.0</td>\n",
       "    </tr>\n",
       "    <tr>\n",
       "      <th>2210</th>\n",
       "      <td>fbaf3456</td>\n",
       "      <td>901acc108f55a5a1</td>\n",
       "      <td>2019-08-06T05:22:20.390Z</td>\n",
       "      <td>{\"height\":2,\"stumps\":[0,0,4],\"coordinates\":{\"x...</td>\n",
       "      <td>0006a69f</td>\n",
       "      <td>26</td>\n",
       "      <td>4030</td>\n",
       "      <td>19027</td>\n",
       "      <td>Mushroom Sorter (Assessment)</td>\n",
       "      <td>Assessment</td>\n",
       "      <td>TREETOPCITY</td>\n",
       "      <td>This event occurs when the player picks up a m...</td>\n",
       "      <td>[{\"name\":\"game_time\",\"type\":\"int\",\"info\":\"mill...</td>\n",
       "      <td>1.0</td>\n",
       "      <td>0.0</td>\n",
       "      <td>1.0</td>\n",
       "      <td>3.0</td>\n",
       "    </tr>\n",
       "    <tr>\n",
       "      <th>2211</th>\n",
       "      <td>5f0eb72c</td>\n",
       "      <td>901acc108f55a5a1</td>\n",
       "      <td>2019-08-06T05:22:22.055Z</td>\n",
       "      <td>{\"height\":2,\"destination\":\"middle\",\"stumps\":[0...</td>\n",
       "      <td>0006a69f</td>\n",
       "      <td>27</td>\n",
       "      <td>4020</td>\n",
       "      <td>20710</td>\n",
       "      <td>Mushroom Sorter (Assessment)</td>\n",
       "      <td>Assessment</td>\n",
       "      <td>TREETOPCITY</td>\n",
       "      <td>This event occurs when the player places a mus...</td>\n",
       "      <td>[{\"name\":\"game_time\",\"type\":\"int\",\"info\":\"mill...</td>\n",
       "      <td>1.0</td>\n",
       "      <td>0.0</td>\n",
       "      <td>1.0</td>\n",
       "      <td>3.0</td>\n",
       "    </tr>\n",
       "    <tr>\n",
       "      <th>2212</th>\n",
       "      <td>fbaf3456</td>\n",
       "      <td>901acc108f55a5a1</td>\n",
       "      <td>2019-08-06T05:22:22.595Z</td>\n",
       "      <td>{\"height\":1,\"stumps\":[0,2,4],\"coordinates\":{\"x...</td>\n",
       "      <td>0006a69f</td>\n",
       "      <td>28</td>\n",
       "      <td>4030</td>\n",
       "      <td>21235</td>\n",
       "      <td>Mushroom Sorter (Assessment)</td>\n",
       "      <td>Assessment</td>\n",
       "      <td>TREETOPCITY</td>\n",
       "      <td>This event occurs when the player picks up a m...</td>\n",
       "      <td>[{\"name\":\"game_time\",\"type\":\"int\",\"info\":\"mill...</td>\n",
       "      <td>1.0</td>\n",
       "      <td>0.0</td>\n",
       "      <td>1.0</td>\n",
       "      <td>3.0</td>\n",
       "    </tr>\n",
       "    <tr>\n",
       "      <th>2213</th>\n",
       "      <td>5f0eb72c</td>\n",
       "      <td>901acc108f55a5a1</td>\n",
       "      <td>2019-08-06T05:22:23.520Z</td>\n",
       "      <td>{\"height\":1,\"destination\":\"left\",\"stumps\":[1,2...</td>\n",
       "      <td>0006a69f</td>\n",
       "      <td>29</td>\n",
       "      <td>4020</td>\n",
       "      <td>22177</td>\n",
       "      <td>Mushroom Sorter (Assessment)</td>\n",
       "      <td>Assessment</td>\n",
       "      <td>TREETOPCITY</td>\n",
       "      <td>This event occurs when the player places a mus...</td>\n",
       "      <td>[{\"name\":\"game_time\",\"type\":\"int\",\"info\":\"mill...</td>\n",
       "      <td>1.0</td>\n",
       "      <td>0.0</td>\n",
       "      <td>1.0</td>\n",
       "      <td>3.0</td>\n",
       "    </tr>\n",
       "    <tr>\n",
       "      <th>2214</th>\n",
       "      <td>a1e4395d</td>\n",
       "      <td>901acc108f55a5a1</td>\n",
       "      <td>2019-08-06T05:22:23.526Z</td>\n",
       "      <td>{\"description\":\"Okay, when you want to check y...</td>\n",
       "      <td>0006a69f</td>\n",
       "      <td>30</td>\n",
       "      <td>3010</td>\n",
       "      <td>22177</td>\n",
       "      <td>Mushroom Sorter (Assessment)</td>\n",
       "      <td>Assessment</td>\n",
       "      <td>TREETOPCITY</td>\n",
       "      <td>The system-initiated instruction event occurs ...</td>\n",
       "      <td>[{\"name\":\"game_time\",\"type\":\"int\",\"info\":\"mill...</td>\n",
       "      <td>1.0</td>\n",
       "      <td>0.0</td>\n",
       "      <td>1.0</td>\n",
       "      <td>3.0</td>\n",
       "    </tr>\n",
       "    <tr>\n",
       "      <th>2215</th>\n",
       "      <td>fbaf3456</td>\n",
       "      <td>901acc108f55a5a1</td>\n",
       "      <td>2019-08-06T05:22:24.772Z</td>\n",
       "      <td>{\"height\":1,\"stumps\":[0,2,4],\"coordinates\":{\"x...</td>\n",
       "      <td>0006a69f</td>\n",
       "      <td>31</td>\n",
       "      <td>4030</td>\n",
       "      <td>23418</td>\n",
       "      <td>Mushroom Sorter (Assessment)</td>\n",
       "      <td>Assessment</td>\n",
       "      <td>TREETOPCITY</td>\n",
       "      <td>This event occurs when the player picks up a m...</td>\n",
       "      <td>[{\"name\":\"game_time\",\"type\":\"int\",\"info\":\"mill...</td>\n",
       "      <td>1.0</td>\n",
       "      <td>0.0</td>\n",
       "      <td>1.0</td>\n",
       "      <td>3.0</td>\n",
       "    </tr>\n",
       "    <tr>\n",
       "      <th>2216</th>\n",
       "      <td>c7128948</td>\n",
       "      <td>901acc108f55a5a1</td>\n",
       "      <td>2019-08-06T05:22:25.062Z</td>\n",
       "      <td>{\"height\":1,\"coordinates\":{\"x\":215,\"y\":516,\"st...</td>\n",
       "      <td>0006a69f</td>\n",
       "      <td>32</td>\n",
       "      <td>4040</td>\n",
       "      <td>23728</td>\n",
       "      <td>Mushroom Sorter (Assessment)</td>\n",
       "      <td>Assessment</td>\n",
       "      <td>TREETOPCITY</td>\n",
       "      <td>This event occurs when the player drags a mush...</td>\n",
       "      <td>[{\"name\":\"game_time\",\"type\":\"int\",\"info\":\"mill...</td>\n",
       "      <td>1.0</td>\n",
       "      <td>0.0</td>\n",
       "      <td>1.0</td>\n",
       "      <td>3.0</td>\n",
       "    </tr>\n",
       "    <tr>\n",
       "      <th>2217</th>\n",
       "      <td>fbaf3456</td>\n",
       "      <td>901acc108f55a5a1</td>\n",
       "      <td>2019-08-06T05:22:25.401Z</td>\n",
       "      <td>{\"height\":2,\"stumps\":[0,0,4],\"coordinates\":{\"x...</td>\n",
       "      <td>0006a69f</td>\n",
       "      <td>33</td>\n",
       "      <td>4030</td>\n",
       "      <td>24044</td>\n",
       "      <td>Mushroom Sorter (Assessment)</td>\n",
       "      <td>Assessment</td>\n",
       "      <td>TREETOPCITY</td>\n",
       "      <td>This event occurs when the player picks up a m...</td>\n",
       "      <td>[{\"name\":\"game_time\",\"type\":\"int\",\"info\":\"mill...</td>\n",
       "      <td>1.0</td>\n",
       "      <td>0.0</td>\n",
       "      <td>1.0</td>\n",
       "      <td>3.0</td>\n",
       "    </tr>\n",
       "    <tr>\n",
       "      <th>2218</th>\n",
       "      <td>5f0eb72c</td>\n",
       "      <td>901acc108f55a5a1</td>\n",
       "      <td>2019-08-06T05:22:26.187Z</td>\n",
       "      <td>{\"height\":2,\"destination\":\"left\",\"stumps\":[2,0...</td>\n",
       "      <td>0006a69f</td>\n",
       "      <td>34</td>\n",
       "      <td>4020</td>\n",
       "      <td>24844</td>\n",
       "      <td>Mushroom Sorter (Assessment)</td>\n",
       "      <td>Assessment</td>\n",
       "      <td>TREETOPCITY</td>\n",
       "      <td>This event occurs when the player places a mus...</td>\n",
       "      <td>[{\"name\":\"game_time\",\"type\":\"int\",\"info\":\"mill...</td>\n",
       "      <td>1.0</td>\n",
       "      <td>0.0</td>\n",
       "      <td>1.0</td>\n",
       "      <td>3.0</td>\n",
       "    </tr>\n",
       "    <tr>\n",
       "      <th>2219</th>\n",
       "      <td>a52b92d5</td>\n",
       "      <td>901acc108f55a5a1</td>\n",
       "      <td>2019-08-06T05:22:26.299Z</td>\n",
       "      <td>{\"description\":\"Okay, when you want to check y...</td>\n",
       "      <td>0006a69f</td>\n",
       "      <td>35</td>\n",
       "      <td>3110</td>\n",
       "      <td>24960</td>\n",
       "      <td>Mushroom Sorter (Assessment)</td>\n",
       "      <td>Assessment</td>\n",
       "      <td>TREETOPCITY</td>\n",
       "      <td>The end of system-initiated instruction event ...</td>\n",
       "      <td>[{\"name\":\"game_time\",\"type\":\"int\",\"info\":\"mill...</td>\n",
       "      <td>1.0</td>\n",
       "      <td>0.0</td>\n",
       "      <td>1.0</td>\n",
       "      <td>3.0</td>\n",
       "    </tr>\n",
       "    <tr>\n",
       "      <th>2220</th>\n",
       "      <td>7da34a02</td>\n",
       "      <td>901acc108f55a5a1</td>\n",
       "      <td>2019-08-06T05:22:26.586Z</td>\n",
       "      <td>{\"coordinates\":{\"x\":214,\"y\":479,\"stage_width\":...</td>\n",
       "      <td>0006a69f</td>\n",
       "      <td>36</td>\n",
       "      <td>4070</td>\n",
       "      <td>25227</td>\n",
       "      <td>Mushroom Sorter (Assessment)</td>\n",
       "      <td>Assessment</td>\n",
       "      <td>TREETOPCITY</td>\n",
       "      <td>This event occurs when the player clicks on so...</td>\n",
       "      <td>[{\"name\":\"game_time\",\"type\":\"int\",\"info\":\"mill...</td>\n",
       "      <td>1.0</td>\n",
       "      <td>0.0</td>\n",
       "      <td>1.0</td>\n",
       "      <td>3.0</td>\n",
       "    </tr>\n",
       "    <tr>\n",
       "      <th>2221</th>\n",
       "      <td>fbaf3456</td>\n",
       "      <td>901acc108f55a5a1</td>\n",
       "      <td>2019-08-06T05:22:27.989Z</td>\n",
       "      <td>{\"height\":2,\"stumps\":[0,0,4],\"coordinates\":{\"x...</td>\n",
       "      <td>0006a69f</td>\n",
       "      <td>37</td>\n",
       "      <td>4030</td>\n",
       "      <td>26635</td>\n",
       "      <td>Mushroom Sorter (Assessment)</td>\n",
       "      <td>Assessment</td>\n",
       "      <td>TREETOPCITY</td>\n",
       "      <td>This event occurs when the player picks up a m...</td>\n",
       "      <td>[{\"name\":\"game_time\",\"type\":\"int\",\"info\":\"mill...</td>\n",
       "      <td>1.0</td>\n",
       "      <td>0.0</td>\n",
       "      <td>1.0</td>\n",
       "      <td>3.0</td>\n",
       "    </tr>\n",
       "    <tr>\n",
       "      <th>2222</th>\n",
       "      <td>c7128948</td>\n",
       "      <td>901acc108f55a5a1</td>\n",
       "      <td>2019-08-06T05:22:28.319Z</td>\n",
       "      <td>{\"height\":2,\"coordinates\":{\"x\":404,\"y\":416,\"st...</td>\n",
       "      <td>0006a69f</td>\n",
       "      <td>38</td>\n",
       "      <td>4040</td>\n",
       "      <td>26977</td>\n",
       "      <td>Mushroom Sorter (Assessment)</td>\n",
       "      <td>Assessment</td>\n",
       "      <td>TREETOPCITY</td>\n",
       "      <td>This event occurs when the player drags a mush...</td>\n",
       "      <td>[{\"name\":\"game_time\",\"type\":\"int\",\"info\":\"mill...</td>\n",
       "      <td>1.0</td>\n",
       "      <td>0.0</td>\n",
       "      <td>1.0</td>\n",
       "      <td>3.0</td>\n",
       "    </tr>\n",
       "    <tr>\n",
       "      <th>2223</th>\n",
       "      <td>7da34a02</td>\n",
       "      <td>901acc108f55a5a1</td>\n",
       "      <td>2019-08-06T05:22:28.867Z</td>\n",
       "      <td>{\"coordinates\":{\"x\":506,\"y\":441,\"stage_width\":...</td>\n",
       "      <td>0006a69f</td>\n",
       "      <td>39</td>\n",
       "      <td>4070</td>\n",
       "      <td>27510</td>\n",
       "      <td>Mushroom Sorter (Assessment)</td>\n",
       "      <td>Assessment</td>\n",
       "      <td>TREETOPCITY</td>\n",
       "      <td>This event occurs when the player clicks on so...</td>\n",
       "      <td>[{\"name\":\"game_time\",\"type\":\"int\",\"info\":\"mill...</td>\n",
       "      <td>1.0</td>\n",
       "      <td>0.0</td>\n",
       "      <td>1.0</td>\n",
       "      <td>3.0</td>\n",
       "    </tr>\n",
       "    <tr>\n",
       "      <th>2224</th>\n",
       "      <td>fbaf3456</td>\n",
       "      <td>901acc108f55a5a1</td>\n",
       "      <td>2019-08-06T05:22:29.230Z</td>\n",
       "      <td>{\"height\":2,\"stumps\":[0,0,4],\"coordinates\":{\"x...</td>\n",
       "      <td>0006a69f</td>\n",
       "      <td>40</td>\n",
       "      <td>4030</td>\n",
       "      <td>27877</td>\n",
       "      <td>Mushroom Sorter (Assessment)</td>\n",
       "      <td>Assessment</td>\n",
       "      <td>TREETOPCITY</td>\n",
       "      <td>This event occurs when the player picks up a m...</td>\n",
       "      <td>[{\"name\":\"game_time\",\"type\":\"int\",\"info\":\"mill...</td>\n",
       "      <td>1.0</td>\n",
       "      <td>0.0</td>\n",
       "      <td>1.0</td>\n",
       "      <td>3.0</td>\n",
       "    </tr>\n",
       "    <tr>\n",
       "      <th>2225</th>\n",
       "      <td>5f0eb72c</td>\n",
       "      <td>901acc108f55a5a1</td>\n",
       "      <td>2019-08-06T05:22:29.538Z</td>\n",
       "      <td>{\"height\":2,\"destination\":\"middle\",\"stumps\":[0...</td>\n",
       "      <td>0006a69f</td>\n",
       "      <td>41</td>\n",
       "      <td>4020</td>\n",
       "      <td>28202</td>\n",
       "      <td>Mushroom Sorter (Assessment)</td>\n",
       "      <td>Assessment</td>\n",
       "      <td>TREETOPCITY</td>\n",
       "      <td>This event occurs when the player places a mus...</td>\n",
       "      <td>[{\"name\":\"game_time\",\"type\":\"int\",\"info\":\"mill...</td>\n",
       "      <td>1.0</td>\n",
       "      <td>0.0</td>\n",
       "      <td>1.0</td>\n",
       "      <td>3.0</td>\n",
       "    </tr>\n",
       "    <tr>\n",
       "      <th>2226</th>\n",
       "      <td>fbaf3456</td>\n",
       "      <td>901acc108f55a5a1</td>\n",
       "      <td>2019-08-06T05:22:30.177Z</td>\n",
       "      <td>{\"height\":1,\"stumps\":[0,2,4],\"coordinates\":{\"x...</td>\n",
       "      <td>0006a69f</td>\n",
       "      <td>42</td>\n",
       "      <td>4030</td>\n",
       "      <td>28819</td>\n",
       "      <td>Mushroom Sorter (Assessment)</td>\n",
       "      <td>Assessment</td>\n",
       "      <td>TREETOPCITY</td>\n",
       "      <td>This event occurs when the player picks up a m...</td>\n",
       "      <td>[{\"name\":\"game_time\",\"type\":\"int\",\"info\":\"mill...</td>\n",
       "      <td>1.0</td>\n",
       "      <td>0.0</td>\n",
       "      <td>1.0</td>\n",
       "      <td>3.0</td>\n",
       "    </tr>\n",
       "    <tr>\n",
       "      <th>2227</th>\n",
       "      <td>5f0eb72c</td>\n",
       "      <td>901acc108f55a5a1</td>\n",
       "      <td>2019-08-06T05:22:30.562Z</td>\n",
       "      <td>{\"height\":1,\"destination\":\"left\",\"stumps\":[1,2...</td>\n",
       "      <td>0006a69f</td>\n",
       "      <td>43</td>\n",
       "      <td>4020</td>\n",
       "      <td>29219</td>\n",
       "      <td>Mushroom Sorter (Assessment)</td>\n",
       "      <td>Assessment</td>\n",
       "      <td>TREETOPCITY</td>\n",
       "      <td>This event occurs when the player places a mus...</td>\n",
       "      <td>[{\"name\":\"game_time\",\"type\":\"int\",\"info\":\"mill...</td>\n",
       "      <td>1.0</td>\n",
       "      <td>0.0</td>\n",
       "      <td>1.0</td>\n",
       "      <td>3.0</td>\n",
       "    </tr>\n",
       "    <tr>\n",
       "      <th>2228</th>\n",
       "      <td>25fa8af4</td>\n",
       "      <td>901acc108f55a5a1</td>\n",
       "      <td>2019-08-06T05:22:32.357Z</td>\n",
       "      <td>{\"correct\":true,\"stumps\":[1,2,4],\"event_count\"...</td>\n",
       "      <td>0006a69f</td>\n",
       "      <td>44</td>\n",
       "      <td>4100</td>\n",
       "      <td>31011</td>\n",
       "      <td>Mushroom Sorter (Assessment)</td>\n",
       "      <td>Assessment</td>\n",
       "      <td>TREETOPCITY</td>\n",
       "      <td>This event occurs when the player on the done ...</td>\n",
       "      <td>[{\"name\":\"game_time\",\"type\":\"int\",\"info\":\"mill...</td>\n",
       "      <td>1.0</td>\n",
       "      <td>0.0</td>\n",
       "      <td>1.0</td>\n",
       "      <td>3.0</td>\n",
       "    </tr>\n",
       "    <tr>\n",
       "      <th>2229</th>\n",
       "      <td>9d29771f</td>\n",
       "      <td>901acc108f55a5a1</td>\n",
       "      <td>2019-08-06T05:22:32.361Z</td>\n",
       "      <td>{\"description\":\"Alright! This one is the littl...</td>\n",
       "      <td>0006a69f</td>\n",
       "      <td>45</td>\n",
       "      <td>3021</td>\n",
       "      <td>31011</td>\n",
       "      <td>Mushroom Sorter (Assessment)</td>\n",
       "      <td>Assessment</td>\n",
       "      <td>TREETOPCITY</td>\n",
       "      <td>The system-initiated feedback (Correct) event ...</td>\n",
       "      <td>[{\"name\":\"game_time\",\"type\":\"int\",\"info\":\"mill...</td>\n",
       "      <td>1.0</td>\n",
       "      <td>0.0</td>\n",
       "      <td>1.0</td>\n",
       "      <td>3.0</td>\n",
       "    </tr>\n",
       "    <tr>\n",
       "      <th>2230</th>\n",
       "      <td>c74f40cd</td>\n",
       "      <td>901acc108f55a5a1</td>\n",
       "      <td>2019-08-06T05:22:36.539Z</td>\n",
       "      <td>{\"description\":\"Alright! This one is the littl...</td>\n",
       "      <td>0006a69f</td>\n",
       "      <td>46</td>\n",
       "      <td>3121</td>\n",
       "      <td>35202</td>\n",
       "      <td>Mushroom Sorter (Assessment)</td>\n",
       "      <td>Assessment</td>\n",
       "      <td>TREETOPCITY</td>\n",
       "      <td>The end of system-initiated feedback (Correct)...</td>\n",
       "      <td>[{\"name\":\"game_time\",\"type\":\"int\",\"info\":\"mill...</td>\n",
       "      <td>1.0</td>\n",
       "      <td>0.0</td>\n",
       "      <td>1.0</td>\n",
       "      <td>3.0</td>\n",
       "    </tr>\n",
       "    <tr>\n",
       "      <th>2231</th>\n",
       "      <td>6c930e6e</td>\n",
       "      <td>901acc108f55a5a1</td>\n",
       "      <td>2019-08-06T05:22:37.153Z</td>\n",
       "      <td>{\"duration\":25592,\"misses\":0,\"event_count\":47,...</td>\n",
       "      <td>0006a69f</td>\n",
       "      <td>47</td>\n",
       "      <td>2030</td>\n",
       "      <td>35802</td>\n",
       "      <td>Mushroom Sorter (Assessment)</td>\n",
       "      <td>Assessment</td>\n",
       "      <td>TREETOPCITY</td>\n",
       "      <td>The beat round event is triggered when the pla...</td>\n",
       "      <td>[{\"name\":\"game_time\",\"type\":\"int\",\"info\":\"mill...</td>\n",
       "      <td>1.0</td>\n",
       "      <td>0.0</td>\n",
       "      <td>1.0</td>\n",
       "      <td>3.0</td>\n",
       "    </tr>\n",
       "    <tr>\n",
       "      <th>2232</th>\n",
       "      <td>a5be6304</td>\n",
       "      <td>901acc108f55a5a1</td>\n",
       "      <td>2019-08-06T05:22:41.147Z</td>\n",
       "      <td>{\"session_duration\":39803,\"exit_type\":\"game_co...</td>\n",
       "      <td>0006a69f</td>\n",
       "      <td>48</td>\n",
       "      <td>2010</td>\n",
       "      <td>39803</td>\n",
       "      <td>Mushroom Sorter (Assessment)</td>\n",
       "      <td>Assessment</td>\n",
       "      <td>TREETOPCITY</td>\n",
       "      <td>The exit game event is triggered when the game...</td>\n",
       "      <td>[{\"name\":\"game_time\",\"type\":\"int\",\"info\":\"mill...</td>\n",
       "      <td>1.0</td>\n",
       "      <td>0.0</td>\n",
       "      <td>1.0</td>\n",
       "      <td>3.0</td>\n",
       "    </tr>\n",
       "  </tbody>\n",
       "</table>\n",
       "</div>"
      ],
      "text/plain": [
       "      event_id      game_session                 timestamp  \\\n",
       "2185  3bfd1a65  901acc108f55a5a1  2019-08-06T05:22:01.344Z   \n",
       "2186  db02c830  901acc108f55a5a1  2019-08-06T05:22:01.400Z   \n",
       "2187  a1e4395d  901acc108f55a5a1  2019-08-06T05:22:01.403Z   \n",
       "2188  a52b92d5  901acc108f55a5a1  2019-08-06T05:22:05.242Z   \n",
       "2189  a1e4395d  901acc108f55a5a1  2019-08-06T05:22:05.244Z   \n",
       "2190  28ed704e  901acc108f55a5a1  2019-08-06T05:22:07.812Z   \n",
       "2191  a52b92d5  901acc108f55a5a1  2019-08-06T05:22:07.812Z   \n",
       "2192  9d29771f  901acc108f55a5a1  2019-08-06T05:22:07.816Z   \n",
       "2193  c74f40cd  901acc108f55a5a1  2019-08-06T05:22:08.427Z   \n",
       "2194  28ed704e  901acc108f55a5a1  2019-08-06T05:22:09.742Z   \n",
       "2195  9d29771f  901acc108f55a5a1  2019-08-06T05:22:09.743Z   \n",
       "2196  c74f40cd  901acc108f55a5a1  2019-08-06T05:22:10.270Z   \n",
       "2197  28ed704e  901acc108f55a5a1  2019-08-06T05:22:10.845Z   \n",
       "2198  9d29771f  901acc108f55a5a1  2019-08-06T05:22:10.849Z   \n",
       "2199  7da34a02  901acc108f55a5a1  2019-08-06T05:22:11.368Z   \n",
       "2200  c74f40cd  901acc108f55a5a1  2019-08-06T05:22:11.551Z   \n",
       "2201  83c6c409  901acc108f55a5a1  2019-08-06T05:22:11.551Z   \n",
       "2202  3dfd4aa4  901acc108f55a5a1  2019-08-06T05:22:11.552Z   \n",
       "2203  a1e4395d  901acc108f55a5a1  2019-08-06T05:22:11.553Z   \n",
       "2204  7da34a02  901acc108f55a5a1  2019-08-06T05:22:11.884Z   \n",
       "2205  a52b92d5  901acc108f55a5a1  2019-08-06T05:22:15.582Z   \n",
       "2206  7da34a02  901acc108f55a5a1  2019-08-06T05:22:17.145Z   \n",
       "2207  7da34a02  901acc108f55a5a1  2019-08-06T05:22:17.750Z   \n",
       "2208  fbaf3456  901acc108f55a5a1  2019-08-06T05:22:18.312Z   \n",
       "2209  5f0eb72c  901acc108f55a5a1  2019-08-06T05:22:19.499Z   \n",
       "2210  fbaf3456  901acc108f55a5a1  2019-08-06T05:22:20.390Z   \n",
       "2211  5f0eb72c  901acc108f55a5a1  2019-08-06T05:22:22.055Z   \n",
       "2212  fbaf3456  901acc108f55a5a1  2019-08-06T05:22:22.595Z   \n",
       "2213  5f0eb72c  901acc108f55a5a1  2019-08-06T05:22:23.520Z   \n",
       "2214  a1e4395d  901acc108f55a5a1  2019-08-06T05:22:23.526Z   \n",
       "2215  fbaf3456  901acc108f55a5a1  2019-08-06T05:22:24.772Z   \n",
       "2216  c7128948  901acc108f55a5a1  2019-08-06T05:22:25.062Z   \n",
       "2217  fbaf3456  901acc108f55a5a1  2019-08-06T05:22:25.401Z   \n",
       "2218  5f0eb72c  901acc108f55a5a1  2019-08-06T05:22:26.187Z   \n",
       "2219  a52b92d5  901acc108f55a5a1  2019-08-06T05:22:26.299Z   \n",
       "2220  7da34a02  901acc108f55a5a1  2019-08-06T05:22:26.586Z   \n",
       "2221  fbaf3456  901acc108f55a5a1  2019-08-06T05:22:27.989Z   \n",
       "2222  c7128948  901acc108f55a5a1  2019-08-06T05:22:28.319Z   \n",
       "2223  7da34a02  901acc108f55a5a1  2019-08-06T05:22:28.867Z   \n",
       "2224  fbaf3456  901acc108f55a5a1  2019-08-06T05:22:29.230Z   \n",
       "2225  5f0eb72c  901acc108f55a5a1  2019-08-06T05:22:29.538Z   \n",
       "2226  fbaf3456  901acc108f55a5a1  2019-08-06T05:22:30.177Z   \n",
       "2227  5f0eb72c  901acc108f55a5a1  2019-08-06T05:22:30.562Z   \n",
       "2228  25fa8af4  901acc108f55a5a1  2019-08-06T05:22:32.357Z   \n",
       "2229  9d29771f  901acc108f55a5a1  2019-08-06T05:22:32.361Z   \n",
       "2230  c74f40cd  901acc108f55a5a1  2019-08-06T05:22:36.539Z   \n",
       "2231  6c930e6e  901acc108f55a5a1  2019-08-06T05:22:37.153Z   \n",
       "2232  a5be6304  901acc108f55a5a1  2019-08-06T05:22:41.147Z   \n",
       "\n",
       "                                             event_data installation_id  \\\n",
       "2185  {\"version\":\"1.0\",\"event_count\":1,\"game_time\":0...        0006a69f   \n",
       "2186  {\"event_count\":2,\"game_time\":37,\"event_code\":2...        0006a69f   \n",
       "2187  {\"description\":\"Pull three mushrooms out of th...        0006a69f   \n",
       "2188  {\"description\":\"Pull three mushrooms out of th...        0006a69f   \n",
       "2189  {\"description\":\"To pick a mushroom, pull it ou...        0006a69f   \n",
       "2190  {\"height\":4,\"coordinates\":{\"x\":329,\"y\":550,\"st...        0006a69f   \n",
       "2191  {\"description\":\"To pick a mushroom, pull it ou...        0006a69f   \n",
       "2192  {\"description\":\"That's one!\",\"identifier\":\"Dot...        0006a69f   \n",
       "2193  {\"description\":\"That's one!\",\"identifier\":\"Dot...        0006a69f   \n",
       "2194  {\"height\":1,\"coordinates\":{\"x\":176,\"y\":526,\"st...        0006a69f   \n",
       "2195  {\"description\":\"two...\",\"identifier\":\"Dot_Two\"...        0006a69f   \n",
       "2196  {\"description\":\"two...\",\"identifier\":\"Dot_Two\"...        0006a69f   \n",
       "2197  {\"height\":2,\"coordinates\":{\"x\":482,\"y\":502,\"st...        0006a69f   \n",
       "2198  {\"description\":\"and three!\",\"identifier\":\"Dot_...        0006a69f   \n",
       "2199  {\"coordinates\":{\"x\":697,\"y\":660,\"stage_width\":...        0006a69f   \n",
       "2200  {\"description\":\"and three!\",\"identifier\":\"Dot_...        0006a69f   \n",
       "2201  {\"duration\":10173,\"event_count\":17,\"game_time\"...        0006a69f   \n",
       "2202  {\"event_count\":18,\"game_time\":10210,\"event_cod...        0006a69f   \n",
       "2203  {\"description\":\"Now order these mushrooms by h...        0006a69f   \n",
       "2204  {\"coordinates\":{\"x\":682,\"y\":625,\"stage_width\":...        0006a69f   \n",
       "2205  {\"description\":\"Now order these mushrooms by h...        0006a69f   \n",
       "2206  {\"coordinates\":{\"x\":744,\"y\":379,\"stage_width\":...        0006a69f   \n",
       "2207  {\"coordinates\":{\"x\":311,\"y\":509,\"stage_width\":...        0006a69f   \n",
       "2208  {\"height\":4,\"stumps\":[0,0,0],\"coordinates\":{\"x...        0006a69f   \n",
       "2209  {\"height\":4,\"destination\":\"right\",\"stumps\":[0,...        0006a69f   \n",
       "2210  {\"height\":2,\"stumps\":[0,0,4],\"coordinates\":{\"x...        0006a69f   \n",
       "2211  {\"height\":2,\"destination\":\"middle\",\"stumps\":[0...        0006a69f   \n",
       "2212  {\"height\":1,\"stumps\":[0,2,4],\"coordinates\":{\"x...        0006a69f   \n",
       "2213  {\"height\":1,\"destination\":\"left\",\"stumps\":[1,2...        0006a69f   \n",
       "2214  {\"description\":\"Okay, when you want to check y...        0006a69f   \n",
       "2215  {\"height\":1,\"stumps\":[0,2,4],\"coordinates\":{\"x...        0006a69f   \n",
       "2216  {\"height\":1,\"coordinates\":{\"x\":215,\"y\":516,\"st...        0006a69f   \n",
       "2217  {\"height\":2,\"stumps\":[0,0,4],\"coordinates\":{\"x...        0006a69f   \n",
       "2218  {\"height\":2,\"destination\":\"left\",\"stumps\":[2,0...        0006a69f   \n",
       "2219  {\"description\":\"Okay, when you want to check y...        0006a69f   \n",
       "2220  {\"coordinates\":{\"x\":214,\"y\":479,\"stage_width\":...        0006a69f   \n",
       "2221  {\"height\":2,\"stumps\":[0,0,4],\"coordinates\":{\"x...        0006a69f   \n",
       "2222  {\"height\":2,\"coordinates\":{\"x\":404,\"y\":416,\"st...        0006a69f   \n",
       "2223  {\"coordinates\":{\"x\":506,\"y\":441,\"stage_width\":...        0006a69f   \n",
       "2224  {\"height\":2,\"stumps\":[0,0,4],\"coordinates\":{\"x...        0006a69f   \n",
       "2225  {\"height\":2,\"destination\":\"middle\",\"stumps\":[0...        0006a69f   \n",
       "2226  {\"height\":1,\"stumps\":[0,2,4],\"coordinates\":{\"x...        0006a69f   \n",
       "2227  {\"height\":1,\"destination\":\"left\",\"stumps\":[1,2...        0006a69f   \n",
       "2228  {\"correct\":true,\"stumps\":[1,2,4],\"event_count\"...        0006a69f   \n",
       "2229  {\"description\":\"Alright! This one is the littl...        0006a69f   \n",
       "2230  {\"description\":\"Alright! This one is the littl...        0006a69f   \n",
       "2231  {\"duration\":25592,\"misses\":0,\"event_count\":47,...        0006a69f   \n",
       "2232  {\"session_duration\":39803,\"exit_type\":\"game_co...        0006a69f   \n",
       "\n",
       "      event_count  event_code  game_time                         title  \\\n",
       "2185            1        2000          0  Mushroom Sorter (Assessment)   \n",
       "2186            2        2025         37  Mushroom Sorter (Assessment)   \n",
       "2187            3        3010         37  Mushroom Sorter (Assessment)   \n",
       "2188            4        3110       3901  Mushroom Sorter (Assessment)   \n",
       "2189            5        3010       3901  Mushroom Sorter (Assessment)   \n",
       "2190            6        4025       6475  Mushroom Sorter (Assessment)   \n",
       "2191            7        3110       6475  Mushroom Sorter (Assessment)   \n",
       "2192            8        3021       6475  Mushroom Sorter (Assessment)   \n",
       "2193            9        3121       7084  Mushroom Sorter (Assessment)   \n",
       "2194           10        4025       8400  Mushroom Sorter (Assessment)   \n",
       "2195           11        3021       8400  Mushroom Sorter (Assessment)   \n",
       "2196           12        3121       8926  Mushroom Sorter (Assessment)   \n",
       "2197           13        4025       9502  Mushroom Sorter (Assessment)   \n",
       "2198           14        3021       9502  Mushroom Sorter (Assessment)   \n",
       "2199           15        4070      10018  Mushroom Sorter (Assessment)   \n",
       "2200           16        3121      10210  Mushroom Sorter (Assessment)   \n",
       "2201           17        2035      10210  Mushroom Sorter (Assessment)   \n",
       "2202           18        2020      10210  Mushroom Sorter (Assessment)   \n",
       "2203           19        3010      10210  Mushroom Sorter (Assessment)   \n",
       "2204           20        4070      10543  Mushroom Sorter (Assessment)   \n",
       "2205           21        3110      14243  Mushroom Sorter (Assessment)   \n",
       "2206           22        4070      15793  Mushroom Sorter (Assessment)   \n",
       "2207           23        4070      16393  Mushroom Sorter (Assessment)   \n",
       "2208           24        4030      16951  Mushroom Sorter (Assessment)   \n",
       "2209           25        4020      18152  Mushroom Sorter (Assessment)   \n",
       "2210           26        4030      19027  Mushroom Sorter (Assessment)   \n",
       "2211           27        4020      20710  Mushroom Sorter (Assessment)   \n",
       "2212           28        4030      21235  Mushroom Sorter (Assessment)   \n",
       "2213           29        4020      22177  Mushroom Sorter (Assessment)   \n",
       "2214           30        3010      22177  Mushroom Sorter (Assessment)   \n",
       "2215           31        4030      23418  Mushroom Sorter (Assessment)   \n",
       "2216           32        4040      23728  Mushroom Sorter (Assessment)   \n",
       "2217           33        4030      24044  Mushroom Sorter (Assessment)   \n",
       "2218           34        4020      24844  Mushroom Sorter (Assessment)   \n",
       "2219           35        3110      24960  Mushroom Sorter (Assessment)   \n",
       "2220           36        4070      25227  Mushroom Sorter (Assessment)   \n",
       "2221           37        4030      26635  Mushroom Sorter (Assessment)   \n",
       "2222           38        4040      26977  Mushroom Sorter (Assessment)   \n",
       "2223           39        4070      27510  Mushroom Sorter (Assessment)   \n",
       "2224           40        4030      27877  Mushroom Sorter (Assessment)   \n",
       "2225           41        4020      28202  Mushroom Sorter (Assessment)   \n",
       "2226           42        4030      28819  Mushroom Sorter (Assessment)   \n",
       "2227           43        4020      29219  Mushroom Sorter (Assessment)   \n",
       "2228           44        4100      31011  Mushroom Sorter (Assessment)   \n",
       "2229           45        3021      31011  Mushroom Sorter (Assessment)   \n",
       "2230           46        3121      35202  Mushroom Sorter (Assessment)   \n",
       "2231           47        2030      35802  Mushroom Sorter (Assessment)   \n",
       "2232           48        2010      39803  Mushroom Sorter (Assessment)   \n",
       "\n",
       "            type        world  \\\n",
       "2185  Assessment  TREETOPCITY   \n",
       "2186  Assessment  TREETOPCITY   \n",
       "2187  Assessment  TREETOPCITY   \n",
       "2188  Assessment  TREETOPCITY   \n",
       "2189  Assessment  TREETOPCITY   \n",
       "2190  Assessment  TREETOPCITY   \n",
       "2191  Assessment  TREETOPCITY   \n",
       "2192  Assessment  TREETOPCITY   \n",
       "2193  Assessment  TREETOPCITY   \n",
       "2194  Assessment  TREETOPCITY   \n",
       "2195  Assessment  TREETOPCITY   \n",
       "2196  Assessment  TREETOPCITY   \n",
       "2197  Assessment  TREETOPCITY   \n",
       "2198  Assessment  TREETOPCITY   \n",
       "2199  Assessment  TREETOPCITY   \n",
       "2200  Assessment  TREETOPCITY   \n",
       "2201  Assessment  TREETOPCITY   \n",
       "2202  Assessment  TREETOPCITY   \n",
       "2203  Assessment  TREETOPCITY   \n",
       "2204  Assessment  TREETOPCITY   \n",
       "2205  Assessment  TREETOPCITY   \n",
       "2206  Assessment  TREETOPCITY   \n",
       "2207  Assessment  TREETOPCITY   \n",
       "2208  Assessment  TREETOPCITY   \n",
       "2209  Assessment  TREETOPCITY   \n",
       "2210  Assessment  TREETOPCITY   \n",
       "2211  Assessment  TREETOPCITY   \n",
       "2212  Assessment  TREETOPCITY   \n",
       "2213  Assessment  TREETOPCITY   \n",
       "2214  Assessment  TREETOPCITY   \n",
       "2215  Assessment  TREETOPCITY   \n",
       "2216  Assessment  TREETOPCITY   \n",
       "2217  Assessment  TREETOPCITY   \n",
       "2218  Assessment  TREETOPCITY   \n",
       "2219  Assessment  TREETOPCITY   \n",
       "2220  Assessment  TREETOPCITY   \n",
       "2221  Assessment  TREETOPCITY   \n",
       "2222  Assessment  TREETOPCITY   \n",
       "2223  Assessment  TREETOPCITY   \n",
       "2224  Assessment  TREETOPCITY   \n",
       "2225  Assessment  TREETOPCITY   \n",
       "2226  Assessment  TREETOPCITY   \n",
       "2227  Assessment  TREETOPCITY   \n",
       "2228  Assessment  TREETOPCITY   \n",
       "2229  Assessment  TREETOPCITY   \n",
       "2230  Assessment  TREETOPCITY   \n",
       "2231  Assessment  TREETOPCITY   \n",
       "2232  Assessment  TREETOPCITY   \n",
       "\n",
       "                                                   info  \\\n",
       "2185  The start game event is triggered at the very ...   \n",
       "2186  The start picking mushrooms event is triggered...   \n",
       "2187  The system-initiated instruction event occurs ...   \n",
       "2188  The end of system-initiated instruction event ...   \n",
       "2189  The system-initiated instruction event occurs ...   \n",
       "2190  This event occurs when the player picks one of...   \n",
       "2191  The end of system-initiated instruction event ...   \n",
       "2192  The system-initiated feedback (Correct) event ...   \n",
       "2193  The end of system-initiated feedback (Correct)...   \n",
       "2194  This event occurs when the player picks one of...   \n",
       "2195  The system-initiated feedback (Correct) event ...   \n",
       "2196  The end of system-initiated feedback (Correct)...   \n",
       "2197  This event occurs when the player picks one of...   \n",
       "2198  The system-initiated feedback (Correct) event ...   \n",
       "2199  This event occurs when the player clicks on so...   \n",
       "2200  The end of system-initiated feedback (Correct)...   \n",
       "2201  The beat round event is triggered when the pla...   \n",
       "2202  The start round event is triggered at the star...   \n",
       "2203  The system-initiated instruction event occurs ...   \n",
       "2204  This event occurs when the player clicks on so...   \n",
       "2205  The end of system-initiated instruction event ...   \n",
       "2206  This event occurs when the player clicks on so...   \n",
       "2207  This event occurs when the player clicks on so...   \n",
       "2208  This event occurs when the player picks up a m...   \n",
       "2209  This event occurs when the player places a mus...   \n",
       "2210  This event occurs when the player picks up a m...   \n",
       "2211  This event occurs when the player places a mus...   \n",
       "2212  This event occurs when the player picks up a m...   \n",
       "2213  This event occurs when the player places a mus...   \n",
       "2214  The system-initiated instruction event occurs ...   \n",
       "2215  This event occurs when the player picks up a m...   \n",
       "2216  This event occurs when the player drags a mush...   \n",
       "2217  This event occurs when the player picks up a m...   \n",
       "2218  This event occurs when the player places a mus...   \n",
       "2219  The end of system-initiated instruction event ...   \n",
       "2220  This event occurs when the player clicks on so...   \n",
       "2221  This event occurs when the player picks up a m...   \n",
       "2222  This event occurs when the player drags a mush...   \n",
       "2223  This event occurs when the player clicks on so...   \n",
       "2224  This event occurs when the player picks up a m...   \n",
       "2225  This event occurs when the player places a mus...   \n",
       "2226  This event occurs when the player picks up a m...   \n",
       "2227  This event occurs when the player places a mus...   \n",
       "2228  This event occurs when the player on the done ...   \n",
       "2229  The system-initiated feedback (Correct) event ...   \n",
       "2230  The end of system-initiated feedback (Correct)...   \n",
       "2231  The beat round event is triggered when the pla...   \n",
       "2232  The exit game event is triggered when the game...   \n",
       "\n",
       "                                                   args  num_correct  \\\n",
       "2185  [{\"name\":\"game_time\",\"type\":\"int\",\"info\":\"mill...          1.0   \n",
       "2186  [{\"name\":\"game_time\",\"type\":\"int\",\"info\":\"mill...          1.0   \n",
       "2187  [{\"name\":\"game_time\",\"type\":\"int\",\"info\":\"mill...          1.0   \n",
       "2188  [{\"name\":\"game_time\",\"type\":\"int\",\"info\":\"mill...          1.0   \n",
       "2189  [{\"name\":\"game_time\",\"type\":\"int\",\"info\":\"mill...          1.0   \n",
       "2190  [{\"name\":\"game_time\",\"type\":\"int\",\"info\":\"mill...          1.0   \n",
       "2191  [{\"name\":\"game_time\",\"type\":\"int\",\"info\":\"mill...          1.0   \n",
       "2192  [{\"name\":\"game_time\",\"type\":\"int\",\"info\":\"mill...          1.0   \n",
       "2193  [{\"name\":\"game_time\",\"type\":\"int\",\"info\":\"mill...          1.0   \n",
       "2194  [{\"name\":\"game_time\",\"type\":\"int\",\"info\":\"mill...          1.0   \n",
       "2195  [{\"name\":\"game_time\",\"type\":\"int\",\"info\":\"mill...          1.0   \n",
       "2196  [{\"name\":\"game_time\",\"type\":\"int\",\"info\":\"mill...          1.0   \n",
       "2197  [{\"name\":\"game_time\",\"type\":\"int\",\"info\":\"mill...          1.0   \n",
       "2198  [{\"name\":\"game_time\",\"type\":\"int\",\"info\":\"mill...          1.0   \n",
       "2199  [{\"name\":\"game_time\",\"type\":\"int\",\"info\":\"mill...          1.0   \n",
       "2200  [{\"name\":\"game_time\",\"type\":\"int\",\"info\":\"mill...          1.0   \n",
       "2201  [{\"name\":\"game_time\",\"type\":\"int\",\"info\":\"mill...          1.0   \n",
       "2202  [{\"name\":\"game_time\",\"type\":\"int\",\"info\":\"mill...          1.0   \n",
       "2203  [{\"name\":\"game_time\",\"type\":\"int\",\"info\":\"mill...          1.0   \n",
       "2204  [{\"name\":\"game_time\",\"type\":\"int\",\"info\":\"mill...          1.0   \n",
       "2205  [{\"name\":\"game_time\",\"type\":\"int\",\"info\":\"mill...          1.0   \n",
       "2206  [{\"name\":\"game_time\",\"type\":\"int\",\"info\":\"mill...          1.0   \n",
       "2207  [{\"name\":\"game_time\",\"type\":\"int\",\"info\":\"mill...          1.0   \n",
       "2208  [{\"name\":\"game_time\",\"type\":\"int\",\"info\":\"mill...          1.0   \n",
       "2209  [{\"name\":\"game_time\",\"type\":\"int\",\"info\":\"mill...          1.0   \n",
       "2210  [{\"name\":\"game_time\",\"type\":\"int\",\"info\":\"mill...          1.0   \n",
       "2211  [{\"name\":\"game_time\",\"type\":\"int\",\"info\":\"mill...          1.0   \n",
       "2212  [{\"name\":\"game_time\",\"type\":\"int\",\"info\":\"mill...          1.0   \n",
       "2213  [{\"name\":\"game_time\",\"type\":\"int\",\"info\":\"mill...          1.0   \n",
       "2214  [{\"name\":\"game_time\",\"type\":\"int\",\"info\":\"mill...          1.0   \n",
       "2215  [{\"name\":\"game_time\",\"type\":\"int\",\"info\":\"mill...          1.0   \n",
       "2216  [{\"name\":\"game_time\",\"type\":\"int\",\"info\":\"mill...          1.0   \n",
       "2217  [{\"name\":\"game_time\",\"type\":\"int\",\"info\":\"mill...          1.0   \n",
       "2218  [{\"name\":\"game_time\",\"type\":\"int\",\"info\":\"mill...          1.0   \n",
       "2219  [{\"name\":\"game_time\",\"type\":\"int\",\"info\":\"mill...          1.0   \n",
       "2220  [{\"name\":\"game_time\",\"type\":\"int\",\"info\":\"mill...          1.0   \n",
       "2221  [{\"name\":\"game_time\",\"type\":\"int\",\"info\":\"mill...          1.0   \n",
       "2222  [{\"name\":\"game_time\",\"type\":\"int\",\"info\":\"mill...          1.0   \n",
       "2223  [{\"name\":\"game_time\",\"type\":\"int\",\"info\":\"mill...          1.0   \n",
       "2224  [{\"name\":\"game_time\",\"type\":\"int\",\"info\":\"mill...          1.0   \n",
       "2225  [{\"name\":\"game_time\",\"type\":\"int\",\"info\":\"mill...          1.0   \n",
       "2226  [{\"name\":\"game_time\",\"type\":\"int\",\"info\":\"mill...          1.0   \n",
       "2227  [{\"name\":\"game_time\",\"type\":\"int\",\"info\":\"mill...          1.0   \n",
       "2228  [{\"name\":\"game_time\",\"type\":\"int\",\"info\":\"mill...          1.0   \n",
       "2229  [{\"name\":\"game_time\",\"type\":\"int\",\"info\":\"mill...          1.0   \n",
       "2230  [{\"name\":\"game_time\",\"type\":\"int\",\"info\":\"mill...          1.0   \n",
       "2231  [{\"name\":\"game_time\",\"type\":\"int\",\"info\":\"mill...          1.0   \n",
       "2232  [{\"name\":\"game_time\",\"type\":\"int\",\"info\":\"mill...          1.0   \n",
       "\n",
       "      num_incorrect  accuracy  accuracy_group  \n",
       "2185            0.0       1.0             3.0  \n",
       "2186            0.0       1.0             3.0  \n",
       "2187            0.0       1.0             3.0  \n",
       "2188            0.0       1.0             3.0  \n",
       "2189            0.0       1.0             3.0  \n",
       "2190            0.0       1.0             3.0  \n",
       "2191            0.0       1.0             3.0  \n",
       "2192            0.0       1.0             3.0  \n",
       "2193            0.0       1.0             3.0  \n",
       "2194            0.0       1.0             3.0  \n",
       "2195            0.0       1.0             3.0  \n",
       "2196            0.0       1.0             3.0  \n",
       "2197            0.0       1.0             3.0  \n",
       "2198            0.0       1.0             3.0  \n",
       "2199            0.0       1.0             3.0  \n",
       "2200            0.0       1.0             3.0  \n",
       "2201            0.0       1.0             3.0  \n",
       "2202            0.0       1.0             3.0  \n",
       "2203            0.0       1.0             3.0  \n",
       "2204            0.0       1.0             3.0  \n",
       "2205            0.0       1.0             3.0  \n",
       "2206            0.0       1.0             3.0  \n",
       "2207            0.0       1.0             3.0  \n",
       "2208            0.0       1.0             3.0  \n",
       "2209            0.0       1.0             3.0  \n",
       "2210            0.0       1.0             3.0  \n",
       "2211            0.0       1.0             3.0  \n",
       "2212            0.0       1.0             3.0  \n",
       "2213            0.0       1.0             3.0  \n",
       "2214            0.0       1.0             3.0  \n",
       "2215            0.0       1.0             3.0  \n",
       "2216            0.0       1.0             3.0  \n",
       "2217            0.0       1.0             3.0  \n",
       "2218            0.0       1.0             3.0  \n",
       "2219            0.0       1.0             3.0  \n",
       "2220            0.0       1.0             3.0  \n",
       "2221            0.0       1.0             3.0  \n",
       "2222            0.0       1.0             3.0  \n",
       "2223            0.0       1.0             3.0  \n",
       "2224            0.0       1.0             3.0  \n",
       "2225            0.0       1.0             3.0  \n",
       "2226            0.0       1.0             3.0  \n",
       "2227            0.0       1.0             3.0  \n",
       "2228            0.0       1.0             3.0  \n",
       "2229            0.0       1.0             3.0  \n",
       "2230            0.0       1.0             3.0  \n",
       "2231            0.0       1.0             3.0  \n",
       "2232            0.0       1.0             3.0  "
      ]
     },
     "execution_count": 190,
     "metadata": {},
     "output_type": "execute_result"
    }
   ],
   "source": [
    "TrainData.loc[(TrainData.installation_id=='0006a69f')\n",
    "              & (TrainData.game_session=='901acc108f55a5a1')  ]"
   ]
  },
  {
   "cell_type": "code",
   "execution_count": 192,
   "metadata": {},
   "outputs": [
    {
     "data": {
      "text/plain": [
       "2186    The start picking mushrooms event is triggered...\n",
       "Name: info, dtype: object"
      ]
     },
     "execution_count": 192,
     "metadata": {},
     "output_type": "execute_result"
    }
   ],
   "source": [
    "TrainData.loc[(TrainData.installation_id=='0006a69f')\n",
    "              & (TrainData.title=='Mushroom Sorter (Assessment)') \n",
    "              & (TrainData.game_session=='901acc108f55a5a1') \n",
    "              & (TrainData.event_code==2025) ]['info']"
   ]
  },
  {
   "cell_type": "code",
   "execution_count": 193,
   "metadata": {},
   "outputs": [
    {
     "data": {
      "text/plain": [
       "2186    {\"event_count\":2,\"game_time\":37,\"event_code\":2...\n",
       "Name: event_data, dtype: object"
      ]
     },
     "execution_count": 193,
     "metadata": {},
     "output_type": "execute_result"
    }
   ],
   "source": [
    "TrainData.loc[(TrainData.installation_id=='0006a69f')\n",
    "              & (TrainData.title=='Mushroom Sorter (Assessment)') \n",
    "              & (TrainData.game_session=='901acc108f55a5a1') \n",
    "              & (TrainData.event_code==2025) ]['event_data']"
   ]
  },
  {
   "cell_type": "code",
   "execution_count": 196,
   "metadata": {},
   "outputs": [
    {
     "data": {
      "text/html": [
       "<div>\n",
       "<style scoped>\n",
       "    .dataframe tbody tr th:only-of-type {\n",
       "        vertical-align: middle;\n",
       "    }\n",
       "\n",
       "    .dataframe tbody tr th {\n",
       "        vertical-align: top;\n",
       "    }\n",
       "\n",
       "    .dataframe thead th {\n",
       "        text-align: right;\n",
       "    }\n",
       "</style>\n",
       "<table border=\"1\" class=\"dataframe\">\n",
       "  <thead>\n",
       "    <tr style=\"text-align: right;\">\n",
       "      <th></th>\n",
       "      <th>event_id</th>\n",
       "      <th>game_session</th>\n",
       "      <th>timestamp</th>\n",
       "      <th>event_data</th>\n",
       "      <th>installation_id</th>\n",
       "      <th>event_count</th>\n",
       "      <th>event_code</th>\n",
       "      <th>game_time</th>\n",
       "      <th>title</th>\n",
       "      <th>type</th>\n",
       "      <th>world</th>\n",
       "      <th>info</th>\n",
       "      <th>args</th>\n",
       "      <th>num_correct</th>\n",
       "      <th>num_incorrect</th>\n",
       "      <th>accuracy</th>\n",
       "      <th>accuracy_group</th>\n",
       "    </tr>\n",
       "  </thead>\n",
       "  <tbody>\n",
       "    <tr>\n",
       "      <th>2228</th>\n",
       "      <td>25fa8af4</td>\n",
       "      <td>901acc108f55a5a1</td>\n",
       "      <td>2019-08-06T05:22:32.357Z</td>\n",
       "      <td>{\"correct\":true,\"stumps\":[1,2,4],\"event_count\"...</td>\n",
       "      <td>0006a69f</td>\n",
       "      <td>44</td>\n",
       "      <td>4100</td>\n",
       "      <td>31011</td>\n",
       "      <td>Mushroom Sorter (Assessment)</td>\n",
       "      <td>Assessment</td>\n",
       "      <td>TREETOPCITY</td>\n",
       "      <td>This event occurs when the player on the done ...</td>\n",
       "      <td>[{\"name\":\"game_time\",\"type\":\"int\",\"info\":\"mill...</td>\n",
       "      <td>1.0</td>\n",
       "      <td>0.0</td>\n",
       "      <td>1.0</td>\n",
       "      <td>3.0</td>\n",
       "    </tr>\n",
       "  </tbody>\n",
       "</table>\n",
       "</div>"
      ],
      "text/plain": [
       "      event_id      game_session                 timestamp  \\\n",
       "2228  25fa8af4  901acc108f55a5a1  2019-08-06T05:22:32.357Z   \n",
       "\n",
       "                                             event_data installation_id  \\\n",
       "2228  {\"correct\":true,\"stumps\":[1,2,4],\"event_count\"...        0006a69f   \n",
       "\n",
       "      event_count  event_code  game_time                         title  \\\n",
       "2228           44        4100      31011  Mushroom Sorter (Assessment)   \n",
       "\n",
       "            type        world  \\\n",
       "2228  Assessment  TREETOPCITY   \n",
       "\n",
       "                                                   info  \\\n",
       "2228  This event occurs when the player on the done ...   \n",
       "\n",
       "                                                   args  num_correct  \\\n",
       "2228  [{\"name\":\"game_time\",\"type\":\"int\",\"info\":\"mill...          1.0   \n",
       "\n",
       "      num_incorrect  accuracy  accuracy_group  \n",
       "2228            0.0       1.0             3.0  "
      ]
     },
     "execution_count": 196,
     "metadata": {},
     "output_type": "execute_result"
    }
   ],
   "source": [
    "TrainData.loc[(TrainData.installation_id=='0006a69f')\n",
    "              & (TrainData.title=='Mushroom Sorter (Assessment)') \n",
    "              & (TrainData.game_session=='901acc108f55a5a1') \n",
    "              & (TrainData.event_code==4100) ]"
   ]
  },
  {
   "cell_type": "markdown",
   "metadata": {},
   "source": [
    "__Checking if Scores of a person improves if they take the same assessment multiple times (for the time being we only look at installation_id = '0006a69f' and their attempts at the 'Mushroom Sorter (Assessment)' , but we should look at this for all assessments and for  all the people who took atleast one assessment )__"
   ]
  },
  {
   "cell_type": "code",
   "execution_count": 138,
   "metadata": {},
   "outputs": [],
   "source": [
    "p1=TrainData.loc[(TrainData.installation_id=='0006a69f') \n",
    "                & (TrainData.title=='Mushroom Sorter (Assessment)')][\n",
    "    ['game_session','timestamp', 'title','accuracy','num_correct']]"
   ]
  },
  {
   "cell_type": "code",
   "execution_count": 139,
   "metadata": {},
   "outputs": [
    {
     "data": {
      "text/plain": [
       "array(['901acc108f55a5a1', '6bdf9623adc94d89', 'e7e7db2a241eadcc',\n",
       "       '9501794defd84e4d'], dtype=object)"
      ]
     },
     "execution_count": 139,
     "metadata": {},
     "output_type": "execute_result"
    }
   ],
   "source": [
    "p1.game_session.unique()"
   ]
  },
  {
   "cell_type": "code",
   "execution_count": 152,
   "metadata": {},
   "outputs": [
    {
     "data": {
      "text/plain": [
       "'2019-08-06T05:22:01.344Z'"
      ]
     },
     "execution_count": 152,
     "metadata": {},
     "output_type": "execute_result"
    }
   ],
   "source": [
    "p1.loc[p1.game_session=='901acc108f55a5a1'].timestamp.iloc[0]"
   ]
  },
  {
   "cell_type": "code",
   "execution_count": 153,
   "metadata": {},
   "outputs": [
    {
     "data": {
      "text/plain": [
       "'2019-08-06T05:22:41.147Z'"
      ]
     },
     "execution_count": 153,
     "metadata": {},
     "output_type": "execute_result"
    }
   ],
   "source": [
    "p1.loc[p1.game_session=='901acc108f55a5a1'].timestamp.iloc[-1]"
   ]
  },
  {
   "cell_type": "code",
   "execution_count": 158,
   "metadata": {},
   "outputs": [],
   "source": [
    "# for each game session, we want the start time, end time and accuracy\n",
    "# in the following function, we pass the data for a particular installation id,\n",
    "# then it returns a dataframe all their game_sessions and \n",
    "# the coressponding starttime, endtime and accuracy\n",
    "def game_info(p1):\n",
    "    unique_games=p1.game_session.unique()\n",
    "    info_lis=[]\n",
    "    for game in unique_games:\n",
    "        info=p1.loc[p1.game_session==game]\n",
    "        starttime=info.timestamp.iloc[0]\n",
    "        endtime=info.timestamp.iloc[-1]\n",
    "        accuracy=info.accuracy.iloc[0]\n",
    "        info_lis.append([game, starttime, endtime, accuracy])\n",
    "    \n",
    "    return pd.DataFrame(info_lis, columns=['game_session', 'starttime', 'endtime', 'accuracy'])"
   ]
  },
  {
   "cell_type": "code",
   "execution_count": 157,
   "metadata": {},
   "outputs": [
    {
     "data": {
      "text/html": [
       "<div>\n",
       "<style scoped>\n",
       "    .dataframe tbody tr th:only-of-type {\n",
       "        vertical-align: middle;\n",
       "    }\n",
       "\n",
       "    .dataframe tbody tr th {\n",
       "        vertical-align: top;\n",
       "    }\n",
       "\n",
       "    .dataframe thead th {\n",
       "        text-align: right;\n",
       "    }\n",
       "</style>\n",
       "<table border=\"1\" class=\"dataframe\">\n",
       "  <thead>\n",
       "    <tr style=\"text-align: right;\">\n",
       "      <th></th>\n",
       "      <th>game_session</th>\n",
       "      <th>starttime</th>\n",
       "      <th>endtime</th>\n",
       "      <th>accuracy</th>\n",
       "    </tr>\n",
       "  </thead>\n",
       "  <tbody>\n",
       "    <tr>\n",
       "      <th>0</th>\n",
       "      <td>901acc108f55a5a1</td>\n",
       "      <td>2019-08-06T05:22:01.344Z</td>\n",
       "      <td>2019-08-06T05:22:41.147Z</td>\n",
       "      <td>1.0</td>\n",
       "    </tr>\n",
       "    <tr>\n",
       "      <th>1</th>\n",
       "      <td>6bdf9623adc94d89</td>\n",
       "      <td>2019-08-06T05:37:50.020Z</td>\n",
       "      <td>2019-08-06T05:38:16.835Z</td>\n",
       "      <td>1.0</td>\n",
       "    </tr>\n",
       "    <tr>\n",
       "      <th>2</th>\n",
       "      <td>e7e7db2a241eadcc</td>\n",
       "      <td>2019-08-06T20:34:35.357Z</td>\n",
       "      <td>2019-08-06T20:34:44.115Z</td>\n",
       "      <td>NaN</td>\n",
       "    </tr>\n",
       "    <tr>\n",
       "      <th>3</th>\n",
       "      <td>9501794defd84e4d</td>\n",
       "      <td>2019-08-06T20:34:53.812Z</td>\n",
       "      <td>2019-08-06T20:35:25.648Z</td>\n",
       "      <td>0.5</td>\n",
       "    </tr>\n",
       "  </tbody>\n",
       "</table>\n",
       "</div>"
      ],
      "text/plain": [
       "       game_session                 starttime                   endtime  \\\n",
       "0  901acc108f55a5a1  2019-08-06T05:22:01.344Z  2019-08-06T05:22:41.147Z   \n",
       "1  6bdf9623adc94d89  2019-08-06T05:37:50.020Z  2019-08-06T05:38:16.835Z   \n",
       "2  e7e7db2a241eadcc  2019-08-06T20:34:35.357Z  2019-08-06T20:34:44.115Z   \n",
       "3  9501794defd84e4d  2019-08-06T20:34:53.812Z  2019-08-06T20:35:25.648Z   \n",
       "\n",
       "   accuracy  \n",
       "0       1.0  \n",
       "1       1.0  \n",
       "2       NaN  \n",
       "3       0.5  "
      ]
     },
     "execution_count": 157,
     "metadata": {},
     "output_type": "execute_result"
    }
   ],
   "source": [
    "game_info(p1)"
   ]
  },
  {
   "cell_type": "code",
   "execution_count": 159,
   "metadata": {},
   "outputs": [
    {
     "data": {
      "text/html": [
       "<div>\n",
       "<style scoped>\n",
       "    .dataframe tbody tr th:only-of-type {\n",
       "        vertical-align: middle;\n",
       "    }\n",
       "\n",
       "    .dataframe tbody tr th {\n",
       "        vertical-align: top;\n",
       "    }\n",
       "\n",
       "    .dataframe thead th {\n",
       "        text-align: right;\n",
       "    }\n",
       "</style>\n",
       "<table border=\"1\" class=\"dataframe\">\n",
       "  <thead>\n",
       "    <tr style=\"text-align: right;\">\n",
       "      <th></th>\n",
       "      <th>game_session</th>\n",
       "      <th>timestamp</th>\n",
       "      <th>title</th>\n",
       "      <th>accuracy</th>\n",
       "      <th>num_correct</th>\n",
       "    </tr>\n",
       "  </thead>\n",
       "  <tbody>\n",
       "    <tr>\n",
       "      <th>2185</th>\n",
       "      <td>901acc108f55a5a1</td>\n",
       "      <td>2019-08-06T05:22:01.344Z</td>\n",
       "      <td>Mushroom Sorter (Assessment)</td>\n",
       "      <td>1.0</td>\n",
       "      <td>1.0</td>\n",
       "    </tr>\n",
       "    <tr>\n",
       "      <th>2186</th>\n",
       "      <td>901acc108f55a5a1</td>\n",
       "      <td>2019-08-06T05:22:01.400Z</td>\n",
       "      <td>Mushroom Sorter (Assessment)</td>\n",
       "      <td>1.0</td>\n",
       "      <td>1.0</td>\n",
       "    </tr>\n",
       "    <tr>\n",
       "      <th>2187</th>\n",
       "      <td>901acc108f55a5a1</td>\n",
       "      <td>2019-08-06T05:22:01.403Z</td>\n",
       "      <td>Mushroom Sorter (Assessment)</td>\n",
       "      <td>1.0</td>\n",
       "      <td>1.0</td>\n",
       "    </tr>\n",
       "    <tr>\n",
       "      <th>2188</th>\n",
       "      <td>901acc108f55a5a1</td>\n",
       "      <td>2019-08-06T05:22:05.242Z</td>\n",
       "      <td>Mushroom Sorter (Assessment)</td>\n",
       "      <td>1.0</td>\n",
       "      <td>1.0</td>\n",
       "    </tr>\n",
       "    <tr>\n",
       "      <th>2189</th>\n",
       "      <td>901acc108f55a5a1</td>\n",
       "      <td>2019-08-06T05:22:05.244Z</td>\n",
       "      <td>Mushroom Sorter (Assessment)</td>\n",
       "      <td>1.0</td>\n",
       "      <td>1.0</td>\n",
       "    </tr>\n",
       "    <tr>\n",
       "      <th>2190</th>\n",
       "      <td>901acc108f55a5a1</td>\n",
       "      <td>2019-08-06T05:22:07.812Z</td>\n",
       "      <td>Mushroom Sorter (Assessment)</td>\n",
       "      <td>1.0</td>\n",
       "      <td>1.0</td>\n",
       "    </tr>\n",
       "    <tr>\n",
       "      <th>2191</th>\n",
       "      <td>901acc108f55a5a1</td>\n",
       "      <td>2019-08-06T05:22:07.812Z</td>\n",
       "      <td>Mushroom Sorter (Assessment)</td>\n",
       "      <td>1.0</td>\n",
       "      <td>1.0</td>\n",
       "    </tr>\n",
       "    <tr>\n",
       "      <th>2192</th>\n",
       "      <td>901acc108f55a5a1</td>\n",
       "      <td>2019-08-06T05:22:07.816Z</td>\n",
       "      <td>Mushroom Sorter (Assessment)</td>\n",
       "      <td>1.0</td>\n",
       "      <td>1.0</td>\n",
       "    </tr>\n",
       "    <tr>\n",
       "      <th>2193</th>\n",
       "      <td>901acc108f55a5a1</td>\n",
       "      <td>2019-08-06T05:22:08.427Z</td>\n",
       "      <td>Mushroom Sorter (Assessment)</td>\n",
       "      <td>1.0</td>\n",
       "      <td>1.0</td>\n",
       "    </tr>\n",
       "    <tr>\n",
       "      <th>2194</th>\n",
       "      <td>901acc108f55a5a1</td>\n",
       "      <td>2019-08-06T05:22:09.742Z</td>\n",
       "      <td>Mushroom Sorter (Assessment)</td>\n",
       "      <td>1.0</td>\n",
       "      <td>1.0</td>\n",
       "    </tr>\n",
       "    <tr>\n",
       "      <th>2195</th>\n",
       "      <td>901acc108f55a5a1</td>\n",
       "      <td>2019-08-06T05:22:09.743Z</td>\n",
       "      <td>Mushroom Sorter (Assessment)</td>\n",
       "      <td>1.0</td>\n",
       "      <td>1.0</td>\n",
       "    </tr>\n",
       "    <tr>\n",
       "      <th>2196</th>\n",
       "      <td>901acc108f55a5a1</td>\n",
       "      <td>2019-08-06T05:22:10.270Z</td>\n",
       "      <td>Mushroom Sorter (Assessment)</td>\n",
       "      <td>1.0</td>\n",
       "      <td>1.0</td>\n",
       "    </tr>\n",
       "    <tr>\n",
       "      <th>2197</th>\n",
       "      <td>901acc108f55a5a1</td>\n",
       "      <td>2019-08-06T05:22:10.845Z</td>\n",
       "      <td>Mushroom Sorter (Assessment)</td>\n",
       "      <td>1.0</td>\n",
       "      <td>1.0</td>\n",
       "    </tr>\n",
       "    <tr>\n",
       "      <th>2198</th>\n",
       "      <td>901acc108f55a5a1</td>\n",
       "      <td>2019-08-06T05:22:10.849Z</td>\n",
       "      <td>Mushroom Sorter (Assessment)</td>\n",
       "      <td>1.0</td>\n",
       "      <td>1.0</td>\n",
       "    </tr>\n",
       "    <tr>\n",
       "      <th>2199</th>\n",
       "      <td>901acc108f55a5a1</td>\n",
       "      <td>2019-08-06T05:22:11.368Z</td>\n",
       "      <td>Mushroom Sorter (Assessment)</td>\n",
       "      <td>1.0</td>\n",
       "      <td>1.0</td>\n",
       "    </tr>\n",
       "    <tr>\n",
       "      <th>2200</th>\n",
       "      <td>901acc108f55a5a1</td>\n",
       "      <td>2019-08-06T05:22:11.551Z</td>\n",
       "      <td>Mushroom Sorter (Assessment)</td>\n",
       "      <td>1.0</td>\n",
       "      <td>1.0</td>\n",
       "    </tr>\n",
       "    <tr>\n",
       "      <th>2201</th>\n",
       "      <td>901acc108f55a5a1</td>\n",
       "      <td>2019-08-06T05:22:11.551Z</td>\n",
       "      <td>Mushroom Sorter (Assessment)</td>\n",
       "      <td>1.0</td>\n",
       "      <td>1.0</td>\n",
       "    </tr>\n",
       "    <tr>\n",
       "      <th>2202</th>\n",
       "      <td>901acc108f55a5a1</td>\n",
       "      <td>2019-08-06T05:22:11.552Z</td>\n",
       "      <td>Mushroom Sorter (Assessment)</td>\n",
       "      <td>1.0</td>\n",
       "      <td>1.0</td>\n",
       "    </tr>\n",
       "    <tr>\n",
       "      <th>2203</th>\n",
       "      <td>901acc108f55a5a1</td>\n",
       "      <td>2019-08-06T05:22:11.553Z</td>\n",
       "      <td>Mushroom Sorter (Assessment)</td>\n",
       "      <td>1.0</td>\n",
       "      <td>1.0</td>\n",
       "    </tr>\n",
       "    <tr>\n",
       "      <th>2204</th>\n",
       "      <td>901acc108f55a5a1</td>\n",
       "      <td>2019-08-06T05:22:11.884Z</td>\n",
       "      <td>Mushroom Sorter (Assessment)</td>\n",
       "      <td>1.0</td>\n",
       "      <td>1.0</td>\n",
       "    </tr>\n",
       "    <tr>\n",
       "      <th>2205</th>\n",
       "      <td>901acc108f55a5a1</td>\n",
       "      <td>2019-08-06T05:22:15.582Z</td>\n",
       "      <td>Mushroom Sorter (Assessment)</td>\n",
       "      <td>1.0</td>\n",
       "      <td>1.0</td>\n",
       "    </tr>\n",
       "    <tr>\n",
       "      <th>2206</th>\n",
       "      <td>901acc108f55a5a1</td>\n",
       "      <td>2019-08-06T05:22:17.145Z</td>\n",
       "      <td>Mushroom Sorter (Assessment)</td>\n",
       "      <td>1.0</td>\n",
       "      <td>1.0</td>\n",
       "    </tr>\n",
       "    <tr>\n",
       "      <th>2207</th>\n",
       "      <td>901acc108f55a5a1</td>\n",
       "      <td>2019-08-06T05:22:17.750Z</td>\n",
       "      <td>Mushroom Sorter (Assessment)</td>\n",
       "      <td>1.0</td>\n",
       "      <td>1.0</td>\n",
       "    </tr>\n",
       "    <tr>\n",
       "      <th>2208</th>\n",
       "      <td>901acc108f55a5a1</td>\n",
       "      <td>2019-08-06T05:22:18.312Z</td>\n",
       "      <td>Mushroom Sorter (Assessment)</td>\n",
       "      <td>1.0</td>\n",
       "      <td>1.0</td>\n",
       "    </tr>\n",
       "    <tr>\n",
       "      <th>2209</th>\n",
       "      <td>901acc108f55a5a1</td>\n",
       "      <td>2019-08-06T05:22:19.499Z</td>\n",
       "      <td>Mushroom Sorter (Assessment)</td>\n",
       "      <td>1.0</td>\n",
       "      <td>1.0</td>\n",
       "    </tr>\n",
       "    <tr>\n",
       "      <th>2210</th>\n",
       "      <td>901acc108f55a5a1</td>\n",
       "      <td>2019-08-06T05:22:20.390Z</td>\n",
       "      <td>Mushroom Sorter (Assessment)</td>\n",
       "      <td>1.0</td>\n",
       "      <td>1.0</td>\n",
       "    </tr>\n",
       "    <tr>\n",
       "      <th>2211</th>\n",
       "      <td>901acc108f55a5a1</td>\n",
       "      <td>2019-08-06T05:22:22.055Z</td>\n",
       "      <td>Mushroom Sorter (Assessment)</td>\n",
       "      <td>1.0</td>\n",
       "      <td>1.0</td>\n",
       "    </tr>\n",
       "    <tr>\n",
       "      <th>2212</th>\n",
       "      <td>901acc108f55a5a1</td>\n",
       "      <td>2019-08-06T05:22:22.595Z</td>\n",
       "      <td>Mushroom Sorter (Assessment)</td>\n",
       "      <td>1.0</td>\n",
       "      <td>1.0</td>\n",
       "    </tr>\n",
       "    <tr>\n",
       "      <th>2213</th>\n",
       "      <td>901acc108f55a5a1</td>\n",
       "      <td>2019-08-06T05:22:23.520Z</td>\n",
       "      <td>Mushroom Sorter (Assessment)</td>\n",
       "      <td>1.0</td>\n",
       "      <td>1.0</td>\n",
       "    </tr>\n",
       "    <tr>\n",
       "      <th>2214</th>\n",
       "      <td>901acc108f55a5a1</td>\n",
       "      <td>2019-08-06T05:22:23.526Z</td>\n",
       "      <td>Mushroom Sorter (Assessment)</td>\n",
       "      <td>1.0</td>\n",
       "      <td>1.0</td>\n",
       "    </tr>\n",
       "    <tr>\n",
       "      <th>...</th>\n",
       "      <td>...</td>\n",
       "      <td>...</td>\n",
       "      <td>...</td>\n",
       "      <td>...</td>\n",
       "      <td>...</td>\n",
       "    </tr>\n",
       "    <tr>\n",
       "      <th>3709</th>\n",
       "      <td>9501794defd84e4d</td>\n",
       "      <td>2019-08-06T20:34:59.237Z</td>\n",
       "      <td>Mushroom Sorter (Assessment)</td>\n",
       "      <td>0.5</td>\n",
       "      <td>1.0</td>\n",
       "    </tr>\n",
       "    <tr>\n",
       "      <th>3710</th>\n",
       "      <td>9501794defd84e4d</td>\n",
       "      <td>2019-08-06T20:34:59.239Z</td>\n",
       "      <td>Mushroom Sorter (Assessment)</td>\n",
       "      <td>0.5</td>\n",
       "      <td>1.0</td>\n",
       "    </tr>\n",
       "    <tr>\n",
       "      <th>3711</th>\n",
       "      <td>9501794defd84e4d</td>\n",
       "      <td>2019-08-06T20:34:59.239Z</td>\n",
       "      <td>Mushroom Sorter (Assessment)</td>\n",
       "      <td>0.5</td>\n",
       "      <td>1.0</td>\n",
       "    </tr>\n",
       "    <tr>\n",
       "      <th>3712</th>\n",
       "      <td>9501794defd84e4d</td>\n",
       "      <td>2019-08-06T20:34:59.243Z</td>\n",
       "      <td>Mushroom Sorter (Assessment)</td>\n",
       "      <td>0.5</td>\n",
       "      <td>1.0</td>\n",
       "    </tr>\n",
       "    <tr>\n",
       "      <th>3713</th>\n",
       "      <td>9501794defd84e4d</td>\n",
       "      <td>2019-08-06T20:35:02.299Z</td>\n",
       "      <td>Mushroom Sorter (Assessment)</td>\n",
       "      <td>0.5</td>\n",
       "      <td>1.0</td>\n",
       "    </tr>\n",
       "    <tr>\n",
       "      <th>3714</th>\n",
       "      <td>9501794defd84e4d</td>\n",
       "      <td>2019-08-06T20:35:03.266Z</td>\n",
       "      <td>Mushroom Sorter (Assessment)</td>\n",
       "      <td>0.5</td>\n",
       "      <td>1.0</td>\n",
       "    </tr>\n",
       "    <tr>\n",
       "      <th>3715</th>\n",
       "      <td>9501794defd84e4d</td>\n",
       "      <td>2019-08-06T20:35:03.486Z</td>\n",
       "      <td>Mushroom Sorter (Assessment)</td>\n",
       "      <td>0.5</td>\n",
       "      <td>1.0</td>\n",
       "    </tr>\n",
       "    <tr>\n",
       "      <th>3716</th>\n",
       "      <td>9501794defd84e4d</td>\n",
       "      <td>2019-08-06T20:35:05.040Z</td>\n",
       "      <td>Mushroom Sorter (Assessment)</td>\n",
       "      <td>0.5</td>\n",
       "      <td>1.0</td>\n",
       "    </tr>\n",
       "    <tr>\n",
       "      <th>3717</th>\n",
       "      <td>9501794defd84e4d</td>\n",
       "      <td>2019-08-06T20:35:06.188Z</td>\n",
       "      <td>Mushroom Sorter (Assessment)</td>\n",
       "      <td>0.5</td>\n",
       "      <td>1.0</td>\n",
       "    </tr>\n",
       "    <tr>\n",
       "      <th>3718</th>\n",
       "      <td>9501794defd84e4d</td>\n",
       "      <td>2019-08-06T20:35:06.539Z</td>\n",
       "      <td>Mushroom Sorter (Assessment)</td>\n",
       "      <td>0.5</td>\n",
       "      <td>1.0</td>\n",
       "    </tr>\n",
       "    <tr>\n",
       "      <th>3719</th>\n",
       "      <td>9501794defd84e4d</td>\n",
       "      <td>2019-08-06T20:35:07.315Z</td>\n",
       "      <td>Mushroom Sorter (Assessment)</td>\n",
       "      <td>0.5</td>\n",
       "      <td>1.0</td>\n",
       "    </tr>\n",
       "    <tr>\n",
       "      <th>3720</th>\n",
       "      <td>9501794defd84e4d</td>\n",
       "      <td>2019-08-06T20:35:08.414Z</td>\n",
       "      <td>Mushroom Sorter (Assessment)</td>\n",
       "      <td>0.5</td>\n",
       "      <td>1.0</td>\n",
       "    </tr>\n",
       "    <tr>\n",
       "      <th>3721</th>\n",
       "      <td>9501794defd84e4d</td>\n",
       "      <td>2019-08-06T20:35:08.766Z</td>\n",
       "      <td>Mushroom Sorter (Assessment)</td>\n",
       "      <td>0.5</td>\n",
       "      <td>1.0</td>\n",
       "    </tr>\n",
       "    <tr>\n",
       "      <th>3722</th>\n",
       "      <td>9501794defd84e4d</td>\n",
       "      <td>2019-08-06T20:35:09.290Z</td>\n",
       "      <td>Mushroom Sorter (Assessment)</td>\n",
       "      <td>0.5</td>\n",
       "      <td>1.0</td>\n",
       "    </tr>\n",
       "    <tr>\n",
       "      <th>3723</th>\n",
       "      <td>9501794defd84e4d</td>\n",
       "      <td>2019-08-06T20:35:09.293Z</td>\n",
       "      <td>Mushroom Sorter (Assessment)</td>\n",
       "      <td>0.5</td>\n",
       "      <td>1.0</td>\n",
       "    </tr>\n",
       "    <tr>\n",
       "      <th>3724</th>\n",
       "      <td>9501794defd84e4d</td>\n",
       "      <td>2019-08-06T20:35:12.051Z</td>\n",
       "      <td>Mushroom Sorter (Assessment)</td>\n",
       "      <td>0.5</td>\n",
       "      <td>1.0</td>\n",
       "    </tr>\n",
       "    <tr>\n",
       "      <th>3725</th>\n",
       "      <td>9501794defd84e4d</td>\n",
       "      <td>2019-08-06T20:35:12.290Z</td>\n",
       "      <td>Mushroom Sorter (Assessment)</td>\n",
       "      <td>0.5</td>\n",
       "      <td>1.0</td>\n",
       "    </tr>\n",
       "    <tr>\n",
       "      <th>3726</th>\n",
       "      <td>9501794defd84e4d</td>\n",
       "      <td>2019-08-06T20:35:12.296Z</td>\n",
       "      <td>Mushroom Sorter (Assessment)</td>\n",
       "      <td>0.5</td>\n",
       "      <td>1.0</td>\n",
       "    </tr>\n",
       "    <tr>\n",
       "      <th>3727</th>\n",
       "      <td>9501794defd84e4d</td>\n",
       "      <td>2019-08-06T20:35:13.910Z</td>\n",
       "      <td>Mushroom Sorter (Assessment)</td>\n",
       "      <td>0.5</td>\n",
       "      <td>1.0</td>\n",
       "    </tr>\n",
       "    <tr>\n",
       "      <th>3728</th>\n",
       "      <td>9501794defd84e4d</td>\n",
       "      <td>2019-08-06T20:35:14.191Z</td>\n",
       "      <td>Mushroom Sorter (Assessment)</td>\n",
       "      <td>0.5</td>\n",
       "      <td>1.0</td>\n",
       "    </tr>\n",
       "    <tr>\n",
       "      <th>3729</th>\n",
       "      <td>9501794defd84e4d</td>\n",
       "      <td>2019-08-06T20:35:14.563Z</td>\n",
       "      <td>Mushroom Sorter (Assessment)</td>\n",
       "      <td>0.5</td>\n",
       "      <td>1.0</td>\n",
       "    </tr>\n",
       "    <tr>\n",
       "      <th>3730</th>\n",
       "      <td>9501794defd84e4d</td>\n",
       "      <td>2019-08-06T20:35:14.963Z</td>\n",
       "      <td>Mushroom Sorter (Assessment)</td>\n",
       "      <td>0.5</td>\n",
       "      <td>1.0</td>\n",
       "    </tr>\n",
       "    <tr>\n",
       "      <th>3731</th>\n",
       "      <td>9501794defd84e4d</td>\n",
       "      <td>2019-08-06T20:35:15.812Z</td>\n",
       "      <td>Mushroom Sorter (Assessment)</td>\n",
       "      <td>0.5</td>\n",
       "      <td>1.0</td>\n",
       "    </tr>\n",
       "    <tr>\n",
       "      <th>3732</th>\n",
       "      <td>9501794defd84e4d</td>\n",
       "      <td>2019-08-06T20:35:15.862Z</td>\n",
       "      <td>Mushroom Sorter (Assessment)</td>\n",
       "      <td>0.5</td>\n",
       "      <td>1.0</td>\n",
       "    </tr>\n",
       "    <tr>\n",
       "      <th>3733</th>\n",
       "      <td>9501794defd84e4d</td>\n",
       "      <td>2019-08-06T20:35:16.194Z</td>\n",
       "      <td>Mushroom Sorter (Assessment)</td>\n",
       "      <td>0.5</td>\n",
       "      <td>1.0</td>\n",
       "    </tr>\n",
       "    <tr>\n",
       "      <th>3734</th>\n",
       "      <td>9501794defd84e4d</td>\n",
       "      <td>2019-08-06T20:35:16.846Z</td>\n",
       "      <td>Mushroom Sorter (Assessment)</td>\n",
       "      <td>0.5</td>\n",
       "      <td>1.0</td>\n",
       "    </tr>\n",
       "    <tr>\n",
       "      <th>3735</th>\n",
       "      <td>9501794defd84e4d</td>\n",
       "      <td>2019-08-06T20:35:16.849Z</td>\n",
       "      <td>Mushroom Sorter (Assessment)</td>\n",
       "      <td>0.5</td>\n",
       "      <td>1.0</td>\n",
       "    </tr>\n",
       "    <tr>\n",
       "      <th>3736</th>\n",
       "      <td>9501794defd84e4d</td>\n",
       "      <td>2019-08-06T20:35:21.026Z</td>\n",
       "      <td>Mushroom Sorter (Assessment)</td>\n",
       "      <td>0.5</td>\n",
       "      <td>1.0</td>\n",
       "    </tr>\n",
       "    <tr>\n",
       "      <th>3737</th>\n",
       "      <td>9501794defd84e4d</td>\n",
       "      <td>2019-08-06T20:35:21.654Z</td>\n",
       "      <td>Mushroom Sorter (Assessment)</td>\n",
       "      <td>0.5</td>\n",
       "      <td>1.0</td>\n",
       "    </tr>\n",
       "    <tr>\n",
       "      <th>3738</th>\n",
       "      <td>9501794defd84e4d</td>\n",
       "      <td>2019-08-06T20:35:25.648Z</td>\n",
       "      <td>Mushroom Sorter (Assessment)</td>\n",
       "      <td>0.5</td>\n",
       "      <td>1.0</td>\n",
       "    </tr>\n",
       "  </tbody>\n",
       "</table>\n",
       "<p>142 rows × 5 columns</p>\n",
       "</div>"
      ],
      "text/plain": [
       "          game_session                 timestamp  \\\n",
       "2185  901acc108f55a5a1  2019-08-06T05:22:01.344Z   \n",
       "2186  901acc108f55a5a1  2019-08-06T05:22:01.400Z   \n",
       "2187  901acc108f55a5a1  2019-08-06T05:22:01.403Z   \n",
       "2188  901acc108f55a5a1  2019-08-06T05:22:05.242Z   \n",
       "2189  901acc108f55a5a1  2019-08-06T05:22:05.244Z   \n",
       "2190  901acc108f55a5a1  2019-08-06T05:22:07.812Z   \n",
       "2191  901acc108f55a5a1  2019-08-06T05:22:07.812Z   \n",
       "2192  901acc108f55a5a1  2019-08-06T05:22:07.816Z   \n",
       "2193  901acc108f55a5a1  2019-08-06T05:22:08.427Z   \n",
       "2194  901acc108f55a5a1  2019-08-06T05:22:09.742Z   \n",
       "2195  901acc108f55a5a1  2019-08-06T05:22:09.743Z   \n",
       "2196  901acc108f55a5a1  2019-08-06T05:22:10.270Z   \n",
       "2197  901acc108f55a5a1  2019-08-06T05:22:10.845Z   \n",
       "2198  901acc108f55a5a1  2019-08-06T05:22:10.849Z   \n",
       "2199  901acc108f55a5a1  2019-08-06T05:22:11.368Z   \n",
       "2200  901acc108f55a5a1  2019-08-06T05:22:11.551Z   \n",
       "2201  901acc108f55a5a1  2019-08-06T05:22:11.551Z   \n",
       "2202  901acc108f55a5a1  2019-08-06T05:22:11.552Z   \n",
       "2203  901acc108f55a5a1  2019-08-06T05:22:11.553Z   \n",
       "2204  901acc108f55a5a1  2019-08-06T05:22:11.884Z   \n",
       "2205  901acc108f55a5a1  2019-08-06T05:22:15.582Z   \n",
       "2206  901acc108f55a5a1  2019-08-06T05:22:17.145Z   \n",
       "2207  901acc108f55a5a1  2019-08-06T05:22:17.750Z   \n",
       "2208  901acc108f55a5a1  2019-08-06T05:22:18.312Z   \n",
       "2209  901acc108f55a5a1  2019-08-06T05:22:19.499Z   \n",
       "2210  901acc108f55a5a1  2019-08-06T05:22:20.390Z   \n",
       "2211  901acc108f55a5a1  2019-08-06T05:22:22.055Z   \n",
       "2212  901acc108f55a5a1  2019-08-06T05:22:22.595Z   \n",
       "2213  901acc108f55a5a1  2019-08-06T05:22:23.520Z   \n",
       "2214  901acc108f55a5a1  2019-08-06T05:22:23.526Z   \n",
       "...                ...                       ...   \n",
       "3709  9501794defd84e4d  2019-08-06T20:34:59.237Z   \n",
       "3710  9501794defd84e4d  2019-08-06T20:34:59.239Z   \n",
       "3711  9501794defd84e4d  2019-08-06T20:34:59.239Z   \n",
       "3712  9501794defd84e4d  2019-08-06T20:34:59.243Z   \n",
       "3713  9501794defd84e4d  2019-08-06T20:35:02.299Z   \n",
       "3714  9501794defd84e4d  2019-08-06T20:35:03.266Z   \n",
       "3715  9501794defd84e4d  2019-08-06T20:35:03.486Z   \n",
       "3716  9501794defd84e4d  2019-08-06T20:35:05.040Z   \n",
       "3717  9501794defd84e4d  2019-08-06T20:35:06.188Z   \n",
       "3718  9501794defd84e4d  2019-08-06T20:35:06.539Z   \n",
       "3719  9501794defd84e4d  2019-08-06T20:35:07.315Z   \n",
       "3720  9501794defd84e4d  2019-08-06T20:35:08.414Z   \n",
       "3721  9501794defd84e4d  2019-08-06T20:35:08.766Z   \n",
       "3722  9501794defd84e4d  2019-08-06T20:35:09.290Z   \n",
       "3723  9501794defd84e4d  2019-08-06T20:35:09.293Z   \n",
       "3724  9501794defd84e4d  2019-08-06T20:35:12.051Z   \n",
       "3725  9501794defd84e4d  2019-08-06T20:35:12.290Z   \n",
       "3726  9501794defd84e4d  2019-08-06T20:35:12.296Z   \n",
       "3727  9501794defd84e4d  2019-08-06T20:35:13.910Z   \n",
       "3728  9501794defd84e4d  2019-08-06T20:35:14.191Z   \n",
       "3729  9501794defd84e4d  2019-08-06T20:35:14.563Z   \n",
       "3730  9501794defd84e4d  2019-08-06T20:35:14.963Z   \n",
       "3731  9501794defd84e4d  2019-08-06T20:35:15.812Z   \n",
       "3732  9501794defd84e4d  2019-08-06T20:35:15.862Z   \n",
       "3733  9501794defd84e4d  2019-08-06T20:35:16.194Z   \n",
       "3734  9501794defd84e4d  2019-08-06T20:35:16.846Z   \n",
       "3735  9501794defd84e4d  2019-08-06T20:35:16.849Z   \n",
       "3736  9501794defd84e4d  2019-08-06T20:35:21.026Z   \n",
       "3737  9501794defd84e4d  2019-08-06T20:35:21.654Z   \n",
       "3738  9501794defd84e4d  2019-08-06T20:35:25.648Z   \n",
       "\n",
       "                             title  accuracy  num_correct  \n",
       "2185  Mushroom Sorter (Assessment)       1.0          1.0  \n",
       "2186  Mushroom Sorter (Assessment)       1.0          1.0  \n",
       "2187  Mushroom Sorter (Assessment)       1.0          1.0  \n",
       "2188  Mushroom Sorter (Assessment)       1.0          1.0  \n",
       "2189  Mushroom Sorter (Assessment)       1.0          1.0  \n",
       "2190  Mushroom Sorter (Assessment)       1.0          1.0  \n",
       "2191  Mushroom Sorter (Assessment)       1.0          1.0  \n",
       "2192  Mushroom Sorter (Assessment)       1.0          1.0  \n",
       "2193  Mushroom Sorter (Assessment)       1.0          1.0  \n",
       "2194  Mushroom Sorter (Assessment)       1.0          1.0  \n",
       "2195  Mushroom Sorter (Assessment)       1.0          1.0  \n",
       "2196  Mushroom Sorter (Assessment)       1.0          1.0  \n",
       "2197  Mushroom Sorter (Assessment)       1.0          1.0  \n",
       "2198  Mushroom Sorter (Assessment)       1.0          1.0  \n",
       "2199  Mushroom Sorter (Assessment)       1.0          1.0  \n",
       "2200  Mushroom Sorter (Assessment)       1.0          1.0  \n",
       "2201  Mushroom Sorter (Assessment)       1.0          1.0  \n",
       "2202  Mushroom Sorter (Assessment)       1.0          1.0  \n",
       "2203  Mushroom Sorter (Assessment)       1.0          1.0  \n",
       "2204  Mushroom Sorter (Assessment)       1.0          1.0  \n",
       "2205  Mushroom Sorter (Assessment)       1.0          1.0  \n",
       "2206  Mushroom Sorter (Assessment)       1.0          1.0  \n",
       "2207  Mushroom Sorter (Assessment)       1.0          1.0  \n",
       "2208  Mushroom Sorter (Assessment)       1.0          1.0  \n",
       "2209  Mushroom Sorter (Assessment)       1.0          1.0  \n",
       "2210  Mushroom Sorter (Assessment)       1.0          1.0  \n",
       "2211  Mushroom Sorter (Assessment)       1.0          1.0  \n",
       "2212  Mushroom Sorter (Assessment)       1.0          1.0  \n",
       "2213  Mushroom Sorter (Assessment)       1.0          1.0  \n",
       "2214  Mushroom Sorter (Assessment)       1.0          1.0  \n",
       "...                            ...       ...          ...  \n",
       "3709  Mushroom Sorter (Assessment)       0.5          1.0  \n",
       "3710  Mushroom Sorter (Assessment)       0.5          1.0  \n",
       "3711  Mushroom Sorter (Assessment)       0.5          1.0  \n",
       "3712  Mushroom Sorter (Assessment)       0.5          1.0  \n",
       "3713  Mushroom Sorter (Assessment)       0.5          1.0  \n",
       "3714  Mushroom Sorter (Assessment)       0.5          1.0  \n",
       "3715  Mushroom Sorter (Assessment)       0.5          1.0  \n",
       "3716  Mushroom Sorter (Assessment)       0.5          1.0  \n",
       "3717  Mushroom Sorter (Assessment)       0.5          1.0  \n",
       "3718  Mushroom Sorter (Assessment)       0.5          1.0  \n",
       "3719  Mushroom Sorter (Assessment)       0.5          1.0  \n",
       "3720  Mushroom Sorter (Assessment)       0.5          1.0  \n",
       "3721  Mushroom Sorter (Assessment)       0.5          1.0  \n",
       "3722  Mushroom Sorter (Assessment)       0.5          1.0  \n",
       "3723  Mushroom Sorter (Assessment)       0.5          1.0  \n",
       "3724  Mushroom Sorter (Assessment)       0.5          1.0  \n",
       "3725  Mushroom Sorter (Assessment)       0.5          1.0  \n",
       "3726  Mushroom Sorter (Assessment)       0.5          1.0  \n",
       "3727  Mushroom Sorter (Assessment)       0.5          1.0  \n",
       "3728  Mushroom Sorter (Assessment)       0.5          1.0  \n",
       "3729  Mushroom Sorter (Assessment)       0.5          1.0  \n",
       "3730  Mushroom Sorter (Assessment)       0.5          1.0  \n",
       "3731  Mushroom Sorter (Assessment)       0.5          1.0  \n",
       "3732  Mushroom Sorter (Assessment)       0.5          1.0  \n",
       "3733  Mushroom Sorter (Assessment)       0.5          1.0  \n",
       "3734  Mushroom Sorter (Assessment)       0.5          1.0  \n",
       "3735  Mushroom Sorter (Assessment)       0.5          1.0  \n",
       "3736  Mushroom Sorter (Assessment)       0.5          1.0  \n",
       "3737  Mushroom Sorter (Assessment)       0.5          1.0  \n",
       "3738  Mushroom Sorter (Assessment)       0.5          1.0  \n",
       "\n",
       "[142 rows x 5 columns]"
      ]
     },
     "execution_count": 159,
     "metadata": {},
     "output_type": "execute_result"
    }
   ],
   "source": [
    "p1"
   ]
  },
  {
   "cell_type": "code",
   "execution_count": null,
   "metadata": {},
   "outputs": [],
   "source": []
  }
 ],
 "metadata": {
  "kernelspec": {
   "display_name": "Python [conda env:tensorflow-gpu]",
   "language": "python",
   "name": "conda-env-tensorflow-gpu-py"
  },
  "language_info": {
   "codemirror_mode": {
    "name": "ipython",
    "version": 3
   },
   "file_extension": ".py",
   "mimetype": "text/x-python",
   "name": "python",
   "nbconvert_exporter": "python",
   "pygments_lexer": "ipython3",
   "version": "3.7.2"
  }
 },
 "nbformat": 4,
 "nbformat_minor": 2
}
